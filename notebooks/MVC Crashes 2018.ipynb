{
 "cells": [
  {
   "cell_type": "code",
   "execution_count": 1,
   "metadata": {},
   "outputs": [],
   "source": [
    "import pandas as pd\n",
    "import numpy as np\n",
    "import datetime as dt"
   ]
  },
  {
   "cell_type": "code",
   "execution_count": 2,
   "metadata": {},
   "outputs": [],
   "source": [
    "base_dir = '../'\n",
    "mvc_crashes = base_dir + 'Motor_Vehicle_Collisions_-_Crashes.csv'"
   ]
  },
  {
   "cell_type": "code",
   "execution_count": 3,
   "metadata": {},
   "outputs": [
    {
     "name": "stderr",
     "output_type": "stream",
     "text": [
      "/usr/local/lib/python3.7/site-packages/IPython/core/interactiveshell.py:3063: DtypeWarning: Columns (3) have mixed types.Specify dtype option on import or set low_memory=False.\n",
      "  interactivity=interactivity, compiler=compiler, result=result)\n"
     ]
    }
   ],
   "source": [
    "mvc_crashes_df = pd.read_csv(mvc_crashes, header=0, delimiter=\",\") "
   ]
  },
  {
   "cell_type": "code",
   "execution_count": 13,
   "metadata": {},
   "outputs": [],
   "source": [
    "mvc_crashes_df['crash_year_temp'] = pd.to_datetime(mvc_crashes_df['CRASH DATE']).dt.year"
   ]
  },
  {
   "cell_type": "code",
   "execution_count": 30,
   "metadata": {},
   "outputs": [
    {
     "name": "stdout",
     "output_type": "stream",
     "text": [
      "(1675125, 30)\n",
      "(1631868, 30)\n"
     ]
    }
   ],
   "source": [
    "mvc_crashes_2_all_df = mvc_crashes_df[mvc_crashes_df['crash_year_temp'] < 2020]\n",
    "print(mvc_crashes_df.shape)\n",
    "print(mvc_crashes_2_all_df.shape)"
   ]
  },
  {
   "cell_type": "code",
   "execution_count": 21,
   "metadata": {},
   "outputs": [
    {
     "data": {
      "text/plain": [
       "2012"
      ]
     },
     "execution_count": 21,
     "metadata": {},
     "output_type": "execute_result"
    }
   ],
   "source": [
    "min(mvc_crashes_df['crash_year_temp'])"
   ]
  },
  {
   "cell_type": "code",
   "execution_count": 22,
   "metadata": {},
   "outputs": [
    {
     "data": {
      "text/plain": [
       "Index(['CRASH DATE', 'CRASH TIME', 'BOROUGH', 'ZIP CODE', 'LATITUDE',\n",
       "       'LONGITUDE', 'LOCATION', 'ON STREET NAME', 'CROSS STREET NAME',\n",
       "       'OFF STREET NAME', 'NUMBER OF PERSONS INJURED',\n",
       "       'NUMBER OF PERSONS KILLED', 'NUMBER OF PEDESTRIANS INJURED',\n",
       "       'NUMBER OF PEDESTRIANS KILLED', 'NUMBER OF CYCLIST INJURED',\n",
       "       'NUMBER OF CYCLIST KILLED', 'NUMBER OF MOTORIST INJURED',\n",
       "       'NUMBER OF MOTORIST KILLED', 'CONTRIBUTING FACTOR VEHICLE 1',\n",
       "       'CONTRIBUTING FACTOR VEHICLE 2', 'CONTRIBUTING FACTOR VEHICLE 3',\n",
       "       'CONTRIBUTING FACTOR VEHICLE 4', 'CONTRIBUTING FACTOR VEHICLE 5',\n",
       "       'COLLISION_ID', 'VEHICLE TYPE CODE 1', 'VEHICLE TYPE CODE 2',\n",
       "       'VEHICLE TYPE CODE 3', 'VEHICLE TYPE CODE 4', 'VEHICLE TYPE CODE 5',\n",
       "       'crash_year_temp'],\n",
       "      dtype='object')"
      ]
     },
     "execution_count": 22,
     "metadata": {},
     "output_type": "execute_result"
    }
   ],
   "source": [
    "mvc_crashes_df.columns"
   ]
  },
  {
   "cell_type": "code",
   "execution_count": 31,
   "metadata": {},
   "outputs": [],
   "source": [
    "mvc_crashes_2_df = mvc_crashes_2_all_df[['CRASH DATE', 'CRASH TIME', 'LATITUDE',\n",
    "       'LONGITUDE',  'NUMBER OF PERSONS KILLED', 'NUMBER OF PEDESTRIANS INJURED',\n",
    "       'NUMBER OF PEDESTRIANS KILLED', 'NUMBER OF CYCLIST INJURED',\n",
    "       'NUMBER OF CYCLIST KILLED', 'NUMBER OF MOTORIST INJURED',\n",
    "       'NUMBER OF MOTORIST KILLED', 'CONTRIBUTING FACTOR VEHICLE 1', 'VEHICLE TYPE CODE 1']]"
   ]
  },
  {
   "cell_type": "code",
   "execution_count": 32,
   "metadata": {},
   "outputs": [
    {
     "data": {
      "text/html": [
       "<div>\n",
       "<style scoped>\n",
       "    .dataframe tbody tr th:only-of-type {\n",
       "        vertical-align: middle;\n",
       "    }\n",
       "\n",
       "    .dataframe tbody tr th {\n",
       "        vertical-align: top;\n",
       "    }\n",
       "\n",
       "    .dataframe thead th {\n",
       "        text-align: right;\n",
       "    }\n",
       "</style>\n",
       "<table border=\"1\" class=\"dataframe\">\n",
       "  <thead>\n",
       "    <tr style=\"text-align: right;\">\n",
       "      <th></th>\n",
       "      <th>CRASH DATE</th>\n",
       "      <th>CRASH TIME</th>\n",
       "      <th>LATITUDE</th>\n",
       "      <th>LONGITUDE</th>\n",
       "      <th>NUMBER OF PERSONS KILLED</th>\n",
       "      <th>NUMBER OF PEDESTRIANS INJURED</th>\n",
       "      <th>NUMBER OF PEDESTRIANS KILLED</th>\n",
       "      <th>NUMBER OF CYCLIST INJURED</th>\n",
       "      <th>NUMBER OF CYCLIST KILLED</th>\n",
       "      <th>NUMBER OF MOTORIST INJURED</th>\n",
       "      <th>NUMBER OF MOTORIST KILLED</th>\n",
       "      <th>CONTRIBUTING FACTOR VEHICLE 1</th>\n",
       "      <th>VEHICLE TYPE CODE 1</th>\n",
       "    </tr>\n",
       "  </thead>\n",
       "  <tbody>\n",
       "    <tr>\n",
       "      <th>0</th>\n",
       "      <td>06/20/2018</td>\n",
       "      <td>17:25</td>\n",
       "      <td>40.805820</td>\n",
       "      <td>-73.909260</td>\n",
       "      <td>0.0</td>\n",
       "      <td>0</td>\n",
       "      <td>0</td>\n",
       "      <td>0</td>\n",
       "      <td>0</td>\n",
       "      <td>0</td>\n",
       "      <td>0</td>\n",
       "      <td>Driver Inattention/Distraction</td>\n",
       "      <td>Station Wagon/Sport Utility Vehicle</td>\n",
       "    </tr>\n",
       "    <tr>\n",
       "      <th>1</th>\n",
       "      <td>07/09/2018</td>\n",
       "      <td>9:20</td>\n",
       "      <td>40.842750</td>\n",
       "      <td>-73.924774</td>\n",
       "      <td>0.0</td>\n",
       "      <td>0</td>\n",
       "      <td>0</td>\n",
       "      <td>0</td>\n",
       "      <td>0</td>\n",
       "      <td>0</td>\n",
       "      <td>0</td>\n",
       "      <td>Passing or Lane Usage Improper</td>\n",
       "      <td>Sedan</td>\n",
       "    </tr>\n",
       "    <tr>\n",
       "      <th>2</th>\n",
       "      <td>06/28/2018</td>\n",
       "      <td>12:06</td>\n",
       "      <td>40.847180</td>\n",
       "      <td>-73.921350</td>\n",
       "      <td>0.0</td>\n",
       "      <td>0</td>\n",
       "      <td>0</td>\n",
       "      <td>0</td>\n",
       "      <td>0</td>\n",
       "      <td>0</td>\n",
       "      <td>0</td>\n",
       "      <td>Unspecified</td>\n",
       "      <td>Sedan</td>\n",
       "    </tr>\n",
       "    <tr>\n",
       "      <th>3</th>\n",
       "      <td>07/11/2018</td>\n",
       "      <td>22:15</td>\n",
       "      <td>40.698864</td>\n",
       "      <td>-73.909890</td>\n",
       "      <td>0.0</td>\n",
       "      <td>0</td>\n",
       "      <td>0</td>\n",
       "      <td>0</td>\n",
       "      <td>0</td>\n",
       "      <td>0</td>\n",
       "      <td>0</td>\n",
       "      <td>Passing or Lane Usage Improper</td>\n",
       "      <td>Station Wagon/Sport Utility Vehicle</td>\n",
       "    </tr>\n",
       "    <tr>\n",
       "      <th>4</th>\n",
       "      <td>06/20/2018</td>\n",
       "      <td>11:50</td>\n",
       "      <td>40.748302</td>\n",
       "      <td>-73.978350</td>\n",
       "      <td>0.0</td>\n",
       "      <td>0</td>\n",
       "      <td>0</td>\n",
       "      <td>0</td>\n",
       "      <td>0</td>\n",
       "      <td>0</td>\n",
       "      <td>0</td>\n",
       "      <td>Driver Inattention/Distraction</td>\n",
       "      <td>Sedan</td>\n",
       "    </tr>\n",
       "  </tbody>\n",
       "</table>\n",
       "</div>"
      ],
      "text/plain": [
       "   CRASH DATE CRASH TIME   LATITUDE  LONGITUDE  NUMBER OF PERSONS KILLED  \\\n",
       "0  06/20/2018      17:25  40.805820 -73.909260                       0.0   \n",
       "1  07/09/2018       9:20  40.842750 -73.924774                       0.0   \n",
       "2  06/28/2018      12:06  40.847180 -73.921350                       0.0   \n",
       "3  07/11/2018      22:15  40.698864 -73.909890                       0.0   \n",
       "4  06/20/2018      11:50  40.748302 -73.978350                       0.0   \n",
       "\n",
       "   NUMBER OF PEDESTRIANS INJURED  NUMBER OF PEDESTRIANS KILLED  \\\n",
       "0                              0                             0   \n",
       "1                              0                             0   \n",
       "2                              0                             0   \n",
       "3                              0                             0   \n",
       "4                              0                             0   \n",
       "\n",
       "   NUMBER OF CYCLIST INJURED  NUMBER OF CYCLIST KILLED  \\\n",
       "0                          0                         0   \n",
       "1                          0                         0   \n",
       "2                          0                         0   \n",
       "3                          0                         0   \n",
       "4                          0                         0   \n",
       "\n",
       "   NUMBER OF MOTORIST INJURED  NUMBER OF MOTORIST KILLED  \\\n",
       "0                           0                          0   \n",
       "1                           0                          0   \n",
       "2                           0                          0   \n",
       "3                           0                          0   \n",
       "4                           0                          0   \n",
       "\n",
       "    CONTRIBUTING FACTOR VEHICLE 1                  VEHICLE TYPE CODE 1  \n",
       "0  Driver Inattention/Distraction  Station Wagon/Sport Utility Vehicle  \n",
       "1  Passing or Lane Usage Improper                                Sedan  \n",
       "2                     Unspecified                                Sedan  \n",
       "3  Passing or Lane Usage Improper  Station Wagon/Sport Utility Vehicle  \n",
       "4  Driver Inattention/Distraction                                Sedan  "
      ]
     },
     "execution_count": 32,
     "metadata": {},
     "output_type": "execute_result"
    }
   ],
   "source": [
    "mvc_crashes_2_df.head()"
   ]
  },
  {
   "cell_type": "code",
   "execution_count": 25,
   "metadata": {},
   "outputs": [
    {
     "name": "stdout",
     "output_type": "stream",
     "text": [
      "   CRASH DATE CRASH TIME   LATITUDE  LONGITUDE  NUMBER OF PERSONS KILLED  \\\n",
      "0  06/20/2018      17:25  40.805820 -73.909260                       0.0   \n",
      "1  07/09/2018       9:20  40.842750 -73.924774                       0.0   \n",
      "2  06/28/2018      12:06  40.847180 -73.921350                       0.0   \n",
      "3  07/11/2018      22:15  40.698864 -73.909890                       0.0   \n",
      "4  06/20/2018      11:50  40.748302 -73.978350                       0.0   \n",
      "\n",
      "   NUMBER OF PEDESTRIANS INJURED  NUMBER OF PEDESTRIANS KILLED  \\\n",
      "0                              0                             0   \n",
      "1                              0                             0   \n",
      "2                              0                             0   \n",
      "3                              0                             0   \n",
      "4                              0                             0   \n",
      "\n",
      "   NUMBER OF CYCLIST INJURED  NUMBER OF CYCLIST KILLED  \\\n",
      "0                          0                         0   \n",
      "1                          0                         0   \n",
      "2                          0                         0   \n",
      "3                          0                         0   \n",
      "4                          0                         0   \n",
      "\n",
      "   NUMBER OF MOTORIST INJURED  NUMBER OF MOTORIST KILLED  \\\n",
      "0                           0                          0   \n",
      "1                           0                          0   \n",
      "2                           0                          0   \n",
      "3                           0                          0   \n",
      "4                           0                          0   \n",
      "\n",
      "    CONTRIBUTING FACTOR VEHICLE 1                  VEHICLE TYPE CODE 1  \n",
      "0  Driver Inattention/Distraction  Station Wagon/Sport Utility Vehicle  \n",
      "1  Passing or Lane Usage Improper                                Sedan  \n",
      "2                     Unspecified                                Sedan  \n",
      "3  Passing or Lane Usage Improper  Station Wagon/Sport Utility Vehicle  \n",
      "4  Driver Inattention/Distraction                                Sedan  \n"
     ]
    }
   ],
   "source": [
    "print(mvc_crashes_2_df.head())"
   ]
  },
  {
   "cell_type": "code",
   "execution_count": 26,
   "metadata": {},
   "outputs": [
    {
     "data": {
      "text/html": [
       "<div>\n",
       "<style scoped>\n",
       "    .dataframe tbody tr th:only-of-type {\n",
       "        vertical-align: middle;\n",
       "    }\n",
       "\n",
       "    .dataframe tbody tr th {\n",
       "        vertical-align: top;\n",
       "    }\n",
       "\n",
       "    .dataframe thead th {\n",
       "        text-align: right;\n",
       "    }\n",
       "</style>\n",
       "<table border=\"1\" class=\"dataframe\">\n",
       "  <thead>\n",
       "    <tr style=\"text-align: right;\">\n",
       "      <th></th>\n",
       "      <th>LATITUDE</th>\n",
       "      <th>LONGITUDE</th>\n",
       "      <th>NUMBER OF PERSONS KILLED</th>\n",
       "      <th>NUMBER OF PEDESTRIANS INJURED</th>\n",
       "      <th>NUMBER OF PEDESTRIANS KILLED</th>\n",
       "      <th>NUMBER OF CYCLIST INJURED</th>\n",
       "      <th>NUMBER OF CYCLIST KILLED</th>\n",
       "      <th>NUMBER OF MOTORIST INJURED</th>\n",
       "      <th>NUMBER OF MOTORIST KILLED</th>\n",
       "    </tr>\n",
       "  </thead>\n",
       "  <tbody>\n",
       "    <tr>\n",
       "      <th>count</th>\n",
       "      <td>1.473198e+06</td>\n",
       "      <td>1.473198e+06</td>\n",
       "      <td>1.675094e+06</td>\n",
       "      <td>1.675125e+06</td>\n",
       "      <td>1.675125e+06</td>\n",
       "      <td>1.675125e+06</td>\n",
       "      <td>1.675125e+06</td>\n",
       "      <td>1.675125e+06</td>\n",
       "      <td>1.675125e+06</td>\n",
       "    </tr>\n",
       "    <tr>\n",
       "      <th>mean</th>\n",
       "      <td>4.069169e+01</td>\n",
       "      <td>-7.387095e+01</td>\n",
       "      <td>1.179038e-03</td>\n",
       "      <td>5.095918e-02</td>\n",
       "      <td>6.399522e-04</td>\n",
       "      <td>2.055011e-02</td>\n",
       "      <td>8.178494e-05</td>\n",
       "      <td>1.923158e-01</td>\n",
       "      <td>4.560854e-04</td>\n",
       "    </tr>\n",
       "    <tr>\n",
       "      <th>std</th>\n",
       "      <td>1.150411e+00</td>\n",
       "      <td>2.352632e+00</td>\n",
       "      <td>3.631166e-02</td>\n",
       "      <td>2.323434e-01</td>\n",
       "      <td>2.584952e-02</td>\n",
       "      <td>1.430292e-01</td>\n",
       "      <td>9.108910e-03</td>\n",
       "      <td>6.221081e-01</td>\n",
       "      <td>2.332872e-02</td>\n",
       "    </tr>\n",
       "    <tr>\n",
       "      <th>min</th>\n",
       "      <td>0.000000e+00</td>\n",
       "      <td>-2.013600e+02</td>\n",
       "      <td>0.000000e+00</td>\n",
       "      <td>0.000000e+00</td>\n",
       "      <td>0.000000e+00</td>\n",
       "      <td>0.000000e+00</td>\n",
       "      <td>0.000000e+00</td>\n",
       "      <td>0.000000e+00</td>\n",
       "      <td>0.000000e+00</td>\n",
       "    </tr>\n",
       "    <tr>\n",
       "      <th>25%</th>\n",
       "      <td>4.066880e+01</td>\n",
       "      <td>-7.397675e+01</td>\n",
       "      <td>0.000000e+00</td>\n",
       "      <td>0.000000e+00</td>\n",
       "      <td>0.000000e+00</td>\n",
       "      <td>0.000000e+00</td>\n",
       "      <td>0.000000e+00</td>\n",
       "      <td>0.000000e+00</td>\n",
       "      <td>0.000000e+00</td>\n",
       "    </tr>\n",
       "    <tr>\n",
       "      <th>50%</th>\n",
       "      <td>4.072250e+01</td>\n",
       "      <td>-7.392923e+01</td>\n",
       "      <td>0.000000e+00</td>\n",
       "      <td>0.000000e+00</td>\n",
       "      <td>0.000000e+00</td>\n",
       "      <td>0.000000e+00</td>\n",
       "      <td>0.000000e+00</td>\n",
       "      <td>0.000000e+00</td>\n",
       "      <td>0.000000e+00</td>\n",
       "    </tr>\n",
       "    <tr>\n",
       "      <th>75%</th>\n",
       "      <td>4.076817e+01</td>\n",
       "      <td>-7.386671e+01</td>\n",
       "      <td>0.000000e+00</td>\n",
       "      <td>0.000000e+00</td>\n",
       "      <td>0.000000e+00</td>\n",
       "      <td>0.000000e+00</td>\n",
       "      <td>0.000000e+00</td>\n",
       "      <td>0.000000e+00</td>\n",
       "      <td>0.000000e+00</td>\n",
       "    </tr>\n",
       "    <tr>\n",
       "      <th>max</th>\n",
       "      <td>4.334444e+01</td>\n",
       "      <td>0.000000e+00</td>\n",
       "      <td>8.000000e+00</td>\n",
       "      <td>2.700000e+01</td>\n",
       "      <td>6.000000e+00</td>\n",
       "      <td>4.000000e+00</td>\n",
       "      <td>2.000000e+00</td>\n",
       "      <td>4.300000e+01</td>\n",
       "      <td>5.000000e+00</td>\n",
       "    </tr>\n",
       "  </tbody>\n",
       "</table>\n",
       "</div>"
      ],
      "text/plain": [
       "           LATITUDE     LONGITUDE  NUMBER OF PERSONS KILLED  \\\n",
       "count  1.473198e+06  1.473198e+06              1.675094e+06   \n",
       "mean   4.069169e+01 -7.387095e+01              1.179038e-03   \n",
       "std    1.150411e+00  2.352632e+00              3.631166e-02   \n",
       "min    0.000000e+00 -2.013600e+02              0.000000e+00   \n",
       "25%    4.066880e+01 -7.397675e+01              0.000000e+00   \n",
       "50%    4.072250e+01 -7.392923e+01              0.000000e+00   \n",
       "75%    4.076817e+01 -7.386671e+01              0.000000e+00   \n",
       "max    4.334444e+01  0.000000e+00              8.000000e+00   \n",
       "\n",
       "       NUMBER OF PEDESTRIANS INJURED  NUMBER OF PEDESTRIANS KILLED  \\\n",
       "count                   1.675125e+06                  1.675125e+06   \n",
       "mean                    5.095918e-02                  6.399522e-04   \n",
       "std                     2.323434e-01                  2.584952e-02   \n",
       "min                     0.000000e+00                  0.000000e+00   \n",
       "25%                     0.000000e+00                  0.000000e+00   \n",
       "50%                     0.000000e+00                  0.000000e+00   \n",
       "75%                     0.000000e+00                  0.000000e+00   \n",
       "max                     2.700000e+01                  6.000000e+00   \n",
       "\n",
       "       NUMBER OF CYCLIST INJURED  NUMBER OF CYCLIST KILLED  \\\n",
       "count               1.675125e+06              1.675125e+06   \n",
       "mean                2.055011e-02              8.178494e-05   \n",
       "std                 1.430292e-01              9.108910e-03   \n",
       "min                 0.000000e+00              0.000000e+00   \n",
       "25%                 0.000000e+00              0.000000e+00   \n",
       "50%                 0.000000e+00              0.000000e+00   \n",
       "75%                 0.000000e+00              0.000000e+00   \n",
       "max                 4.000000e+00              2.000000e+00   \n",
       "\n",
       "       NUMBER OF MOTORIST INJURED  NUMBER OF MOTORIST KILLED  \n",
       "count                1.675125e+06               1.675125e+06  \n",
       "mean                 1.923158e-01               4.560854e-04  \n",
       "std                  6.221081e-01               2.332872e-02  \n",
       "min                  0.000000e+00               0.000000e+00  \n",
       "25%                  0.000000e+00               0.000000e+00  \n",
       "50%                  0.000000e+00               0.000000e+00  \n",
       "75%                  0.000000e+00               0.000000e+00  \n",
       "max                  4.300000e+01               5.000000e+00  "
      ]
     },
     "execution_count": 26,
     "metadata": {},
     "output_type": "execute_result"
    }
   ],
   "source": [
    "mvc_crashes_2_df.describe()"
   ]
  },
  {
   "cell_type": "code",
   "execution_count": 27,
   "metadata": {},
   "outputs": [
    {
     "name": "stdout",
     "output_type": "stream",
     "text": [
      "           LATITUDE     LONGITUDE  NUMBER OF PERSONS KILLED  \\\n",
      "count  1.473198e+06  1.473198e+06              1.675094e+06   \n",
      "mean   4.069169e+01 -7.387095e+01              1.179038e-03   \n",
      "std    1.150411e+00  2.352632e+00              3.631166e-02   \n",
      "min    0.000000e+00 -2.013600e+02              0.000000e+00   \n",
      "25%    4.066880e+01 -7.397675e+01              0.000000e+00   \n",
      "50%    4.072250e+01 -7.392923e+01              0.000000e+00   \n",
      "75%    4.076817e+01 -7.386671e+01              0.000000e+00   \n",
      "max    4.334444e+01  0.000000e+00              8.000000e+00   \n",
      "\n",
      "       NUMBER OF PEDESTRIANS INJURED  NUMBER OF PEDESTRIANS KILLED  \\\n",
      "count                   1.675125e+06                  1.675125e+06   \n",
      "mean                    5.095918e-02                  6.399522e-04   \n",
      "std                     2.323434e-01                  2.584952e-02   \n",
      "min                     0.000000e+00                  0.000000e+00   \n",
      "25%                     0.000000e+00                  0.000000e+00   \n",
      "50%                     0.000000e+00                  0.000000e+00   \n",
      "75%                     0.000000e+00                  0.000000e+00   \n",
      "max                     2.700000e+01                  6.000000e+00   \n",
      "\n",
      "       NUMBER OF CYCLIST INJURED  NUMBER OF CYCLIST KILLED  \\\n",
      "count               1.675125e+06              1.675125e+06   \n",
      "mean                2.055011e-02              8.178494e-05   \n",
      "std                 1.430292e-01              9.108910e-03   \n",
      "min                 0.000000e+00              0.000000e+00   \n",
      "25%                 0.000000e+00              0.000000e+00   \n",
      "50%                 0.000000e+00              0.000000e+00   \n",
      "75%                 0.000000e+00              0.000000e+00   \n",
      "max                 4.000000e+00              2.000000e+00   \n",
      "\n",
      "       NUMBER OF MOTORIST INJURED  NUMBER OF MOTORIST KILLED  \n",
      "count                1.675125e+06               1.675125e+06  \n",
      "mean                 1.923158e-01               4.560854e-04  \n",
      "std                  6.221081e-01               2.332872e-02  \n",
      "min                  0.000000e+00               0.000000e+00  \n",
      "25%                  0.000000e+00               0.000000e+00  \n",
      "50%                  0.000000e+00               0.000000e+00  \n",
      "75%                  0.000000e+00               0.000000e+00  \n",
      "max                  4.300000e+01               5.000000e+00  \n"
     ]
    }
   ],
   "source": [
    "print(mvc_crashes_2_df.describe())"
   ]
  },
  {
   "cell_type": "code",
   "execution_count": 33,
   "metadata": {},
   "outputs": [
    {
     "data": {
      "text/plain": [
       "(1631868, 13)"
      ]
     },
     "execution_count": 33,
     "metadata": {},
     "output_type": "execute_result"
    }
   ],
   "source": [
    "mvc_crashes_2_df.shape"
   ]
  },
  {
   "cell_type": "code",
   "execution_count": 34,
   "metadata": {},
   "outputs": [
    {
     "name": "stdout",
     "output_type": "stream",
     "text": [
      "CRASH TIME\n",
      "0      47360\n",
      "1      25541\n",
      "2      19335\n",
      "3      16801\n",
      "4      19532\n",
      "5      21538\n",
      "6      34539\n",
      "7      47931\n",
      "8      91850\n",
      "9      89937\n",
      "10     82972\n",
      "11     86254\n",
      "12     91434\n",
      "13     96334\n",
      "14    111673\n",
      "15    102759\n",
      "16    120956\n",
      "17    117941\n",
      "18    102821\n",
      "19     83508\n",
      "20     68967\n",
      "21     57576\n",
      "22     51847\n",
      "23     42462\n",
      "dtype: int64\n"
     ]
    },
    {
     "data": {
      "text/plain": [
       "<matplotlib.axes._subplots.AxesSubplot at 0x12e1cda20>"
      ]
     },
     "execution_count": 34,
     "metadata": {},
     "output_type": "execute_result"
    },
    {
     "data": {
      "image/png": "[encoded data removed]",
      "text/plain": [
       "<Figure size 432x288 with 1 Axes>"
      ]
     },
     "metadata": {
      "needs_background": "light"
     },
     "output_type": "display_data"
    }
   ],
   "source": [
    "# Number of crashes per hour\n",
    "column = 'CRASH TIME'\n",
    "crash_time = mvc_crashes_2_df[column]\n",
    "crash_hour = pd.DataFrame(pd.to_datetime(crash_time).dt.hour)  # Extract hours\n",
    "crash_hour_count = crash_hour.groupby(by=column).size()\n",
    "print(crash_hour_count)\n",
    "crash_hour_count.plot.bar()"
   ]
  },
  {
   "cell_type": "code",
   "execution_count": 35,
   "metadata": {},
   "outputs": [
    {
     "name": "stdout",
     "output_type": "stream",
     "text": [
      "CONTRIBUTING FACTOR VEHICLE 1\n",
      "Unspecified                       596720\n",
      "Driver Inattention/Distraction    305474\n",
      "Failure to Yield Right-of-Way      93209\n",
      "Following Too Closely              82027\n",
      "Backing Unsafely                   62477\n",
      "                                   ...  \n",
      "Shoulders Defective/Improper          71\n",
      "Windshield Inadequate                 68\n",
      "Texting                               35\n",
      "Listening/Using Headphones            17\n",
      "1                                     10\n",
      "Length: 61, dtype: int64\n"
     ]
    },
    {
     "data": {
      "text/plain": [
       "<matplotlib.axes._subplots.AxesSubplot at 0x1303f3be0>"
      ]
     },
     "execution_count": 35,
     "metadata": {},
     "output_type": "execute_result"
    },
    {
     "data": {
      "image/png": "[encoded data removed]",
      "text/plain": [
       "<Figure size 432x288 with 1 Axes>"
      ]
     },
     "metadata": {
      "needs_background": "light"
     },
     "output_type": "display_data"
    }
   ],
   "source": [
    "# First factor\n",
    "column = 'CONTRIBUTING FACTOR VEHICLE 1'\n",
    "contr_factor_veh_1 = mvc_crashes_2_df.groupby([column]).size()\n",
    "contr_factor_veh_1.sort_values(0, ascending=False, inplace=True)\n",
    "print(contr_factor_veh_1)\n",
    "contr_factor_veh_1[1:11].plot.bar()"
   ]
  },
  {
   "cell_type": "code",
   "execution_count": null,
   "metadata": {},
   "outputs": [],
   "source": []
  }
 ],
 "metadata": {
  "kernelspec": {
   "display_name": "Python 3",
   "language": "python",
   "name": "python3"
  },
  "language_info": {
   "codemirror_mode": {
    "name": "ipython",
    "version": 3
   },
   "file_extension": ".py",
   "mimetype": "text/x-python",
   "name": "python",
   "nbconvert_exporter": "python",
   "pygments_lexer": "ipython3",
   "version": "3.7.3"
  }
 },
 "nbformat": 4,
 "nbformat_minor": 4
}
