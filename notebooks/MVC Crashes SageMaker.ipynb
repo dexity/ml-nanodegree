{
 "cells": [
  {
   "cell_type": "code",
   "execution_count": 2,
   "metadata": {},
   "outputs": [],
   "source": [
    "import pandas as pd\n",
    "import numpy as np\n",
    "import os\n",
    "import io\n",
    "\n",
    "import matplotlib.pyplot as plt\n",
    "import matplotlib\n",
    "%matplotlib inline "
   ]
  },
  {
   "cell_type": "code",
   "execution_count": 3,
   "metadata": {},
   "outputs": [],
   "source": [
    "import boto3\n",
    "import sagemaker"
   ]
  },
  {
   "cell_type": "code",
   "execution_count": 4,
   "metadata": {},
   "outputs": [],
   "source": [
    "s3_client = boto3.client('s3')\n",
    "bucket_name = 'mvc-crashes'"
   ]
  },
  {
   "cell_type": "code",
   "execution_count": 15,
   "metadata": {},
   "outputs": [],
   "source": [
    "obj_list=s3_client.list_objects(Bucket=bucket_name)"
   ]
  },
  {
   "cell_type": "code",
   "execution_count": 16,
   "metadata": {},
   "outputs": [
    {
     "name": "stdout",
     "output_type": "stream",
     "text": [
      "['mvc_crashes_part.csv']\n"
     ]
    }
   ],
   "source": [
    "files=[]\n",
    "for contents in obj_list['Contents']:\n",
    "    files.append(contents['Key'])\n",
    "    \n",
    "print(files)"
   ]
  },
  {
   "cell_type": "code",
   "execution_count": 14,
   "metadata": {},
   "outputs": [
    {
     "data": {
      "text/plain": [
       "{'ResponseMetadata': {'RequestId': '20592472A3934893',\n",
       "  'HostId': 'KfjbWzE0OEFxYiJdh8dcKgWeU1FOT+GrZn0XMqH93CnSbp34RNYRWErXpLH9QV3MeeTo+W3ffAo=',\n",
       "  'HTTPStatusCode': 200,\n",
       "  'HTTPHeaders': {'x-amz-id-2': 'KfjbWzE0OEFxYiJdh8dcKgWeU1FOT+GrZn0XMqH93CnSbp34RNYRWErXpLH9QV3MeeTo+W3ffAo=',\n",
       "   'x-amz-request-id': '20592472A3934893',\n",
       "   'date': 'Sun, 24 May 2020 23:23:10 GMT',\n",
       "   'last-modified': 'Sun, 24 May 2020 23:19:41 GMT',\n",
       "   'etag': '\"4e35a27a45a6d3a6e105db43fce9fa6b-9\"',\n",
       "   'accept-ranges': 'bytes',\n",
       "   'content-type': 'text/csv',\n",
       "   'content-length': '144996778',\n",
       "   'server': 'AmazonS3'},\n",
       "  'RetryAttempts': 0},\n",
       " 'AcceptRanges': 'bytes',\n",
       " 'LastModified': datetime.datetime(2020, 5, 24, 23, 19, 41, tzinfo=tzutc()),\n",
       " 'ContentLength': 144996778,\n",
       " 'ETag': '\"4e35a27a45a6d3a6e105db43fce9fa6b-9\"',\n",
       " 'ContentType': 'text/csv',\n",
       " 'Metadata': {},\n",
       " 'Body': <botocore.response.StreamingBody at 0x7f1f29fdd5f8>}"
      ]
     },
     "metadata": {},
     "output_type": "display_data"
    }
   ],
   "source": [
    "file_name = 'mvc_crashes_part.csv' #files[0]\n",
    "data_object = s3_client.get_object(Bucket=bucket_name, Key=file_name)\n",
    "display(data_object)"
   ]
  },
  {
   "cell_type": "code",
   "execution_count": 17,
   "metadata": {},
   "outputs": [
    {
     "name": "stdout",
     "output_type": "stream",
     "text": [
      "Data type:  <class 'bytes'>\n"
     ]
    }
   ],
   "source": [
    "data_body = data_object[\"Body\"].read()\n",
    "print('Data type: ', type(data_body))"
   ]
  },
  {
   "cell_type": "code",
   "execution_count": 19,
   "metadata": {},
   "outputs": [
    {
     "data": {
      "text/html": [
       "<div>\n",
       "<style scoped>\n",
       "    .dataframe tbody tr th:only-of-type {\n",
       "        vertical-align: middle;\n",
       "    }\n",
       "\n",
       "    .dataframe tbody tr th {\n",
       "        vertical-align: top;\n",
       "    }\n",
       "\n",
       "    .dataframe thead th {\n",
       "        text-align: right;\n",
       "    }\n",
       "</style>\n",
       "<table border=\"1\" class=\"dataframe\">\n",
       "  <thead>\n",
       "    <tr style=\"text-align: right;\">\n",
       "      <th></th>\n",
       "      <th>crashes_datetime</th>\n",
       "      <th>borough</th>\n",
       "      <th>zip_code</th>\n",
       "      <th>latitude</th>\n",
       "      <th>longitude</th>\n",
       "      <th>location</th>\n",
       "      <th>on_street_name</th>\n",
       "      <th>cross_street_name</th>\n",
       "      <th>off_street_name</th>\n",
       "      <th>number_of_persons_injured</th>\n",
       "      <th>...</th>\n",
       "      <th>contributing_factor_vehicle_2</th>\n",
       "      <th>contributing_factor_vehicle_3</th>\n",
       "      <th>contributing_factor_vehicle_4</th>\n",
       "      <th>contributing_factor_vehicle_5</th>\n",
       "      <th>collision_id</th>\n",
       "      <th>vehicle_type_code_1</th>\n",
       "      <th>vehicle_type_code_2</th>\n",
       "      <th>vehicle_type_code_3</th>\n",
       "      <th>vehicle_type_code_4</th>\n",
       "      <th>vehicle_type_code_5</th>\n",
       "    </tr>\n",
       "  </thead>\n",
       "  <tbody>\n",
       "    <tr>\n",
       "      <th>0</th>\n",
       "      <td>2018-06-20 17:25:00</td>\n",
       "      <td>NaN</td>\n",
       "      <td>NaN</td>\n",
       "      <td>40.805820</td>\n",
       "      <td>-73.909260</td>\n",
       "      <td>POINT (-73.90926 40.80582)</td>\n",
       "      <td>BRUCKNER EXPRESSWAY</td>\n",
       "      <td>NaN</td>\n",
       "      <td>NaN</td>\n",
       "      <td>0.0</td>\n",
       "      <td>...</td>\n",
       "      <td>Driver Inattention/Distraction</td>\n",
       "      <td>NaN</td>\n",
       "      <td>NaN</td>\n",
       "      <td>NaN</td>\n",
       "      <td>3925049</td>\n",
       "      <td>Station Wagon/Sport Utility Vehicle</td>\n",
       "      <td>Sedan</td>\n",
       "      <td>NaN</td>\n",
       "      <td>NaN</td>\n",
       "      <td>NaN</td>\n",
       "    </tr>\n",
       "    <tr>\n",
       "      <th>1</th>\n",
       "      <td>2018-07-09 09:20:00</td>\n",
       "      <td>NaN</td>\n",
       "      <td>NaN</td>\n",
       "      <td>40.842750</td>\n",
       "      <td>-73.924774</td>\n",
       "      <td>POINT (-73.924774 40.84275)</td>\n",
       "      <td>WEST 171 STREET</td>\n",
       "      <td>NaN</td>\n",
       "      <td>NaN</td>\n",
       "      <td>0.0</td>\n",
       "      <td>...</td>\n",
       "      <td>Unspecified</td>\n",
       "      <td>NaN</td>\n",
       "      <td>NaN</td>\n",
       "      <td>NaN</td>\n",
       "      <td>3938002</td>\n",
       "      <td>Sedan</td>\n",
       "      <td>NaN</td>\n",
       "      <td>NaN</td>\n",
       "      <td>NaN</td>\n",
       "      <td>NaN</td>\n",
       "    </tr>\n",
       "    <tr>\n",
       "      <th>2</th>\n",
       "      <td>2018-06-28 12:06:00</td>\n",
       "      <td>BRONX</td>\n",
       "      <td>10453.0</td>\n",
       "      <td>40.847180</td>\n",
       "      <td>-73.921350</td>\n",
       "      <td>POINT (-73.92135 40.84718)</td>\n",
       "      <td>MONTGOMERY AVENUE</td>\n",
       "      <td>WEST 174 STREET</td>\n",
       "      <td>NaN</td>\n",
       "      <td>0.0</td>\n",
       "      <td>...</td>\n",
       "      <td>Unspecified</td>\n",
       "      <td>NaN</td>\n",
       "      <td>NaN</td>\n",
       "      <td>NaN</td>\n",
       "      <td>3931268</td>\n",
       "      <td>Sedan</td>\n",
       "      <td>Taxi</td>\n",
       "      <td>NaN</td>\n",
       "      <td>NaN</td>\n",
       "      <td>NaN</td>\n",
       "    </tr>\n",
       "    <tr>\n",
       "      <th>3</th>\n",
       "      <td>2018-07-11 22:15:00</td>\n",
       "      <td>BROOKLYN</td>\n",
       "      <td>11237.0</td>\n",
       "      <td>40.698864</td>\n",
       "      <td>-73.909890</td>\n",
       "      <td>POINT (-73.90989 40.698864)</td>\n",
       "      <td>NaN</td>\n",
       "      <td>NaN</td>\n",
       "      <td>454       WYCKOFF AVENUE</td>\n",
       "      <td>0.0</td>\n",
       "      <td>...</td>\n",
       "      <td>Unspecified</td>\n",
       "      <td>NaN</td>\n",
       "      <td>NaN</td>\n",
       "      <td>NaN</td>\n",
       "      <td>3941136</td>\n",
       "      <td>Station Wagon/Sport Utility Vehicle</td>\n",
       "      <td>NaN</td>\n",
       "      <td>NaN</td>\n",
       "      <td>NaN</td>\n",
       "      <td>NaN</td>\n",
       "    </tr>\n",
       "    <tr>\n",
       "      <th>4</th>\n",
       "      <td>2018-06-20 11:50:00</td>\n",
       "      <td>MANHATTAN</td>\n",
       "      <td>10016.0</td>\n",
       "      <td>40.748302</td>\n",
       "      <td>-73.978350</td>\n",
       "      <td>POINT (-73.97835 40.748302)</td>\n",
       "      <td>EAST 37 STREET</td>\n",
       "      <td>LEXINGTON AVENUE</td>\n",
       "      <td>NaN</td>\n",
       "      <td>0.0</td>\n",
       "      <td>...</td>\n",
       "      <td>Unspecified</td>\n",
       "      <td>NaN</td>\n",
       "      <td>NaN</td>\n",
       "      <td>NaN</td>\n",
       "      <td>3925007</td>\n",
       "      <td>Sedan</td>\n",
       "      <td>Sedan</td>\n",
       "      <td>NaN</td>\n",
       "      <td>NaN</td>\n",
       "      <td>NaN</td>\n",
       "    </tr>\n",
       "  </tbody>\n",
       "</table>\n",
       "<p>5 rows × 28 columns</p>\n",
       "</div>"
      ],
      "text/plain": [
       "      crashes_datetime    borough  zip_code   latitude  longitude  \\\n",
       "0  2018-06-20 17:25:00        NaN       NaN  40.805820 -73.909260   \n",
       "1  2018-07-09 09:20:00        NaN       NaN  40.842750 -73.924774   \n",
       "2  2018-06-28 12:06:00      BRONX   10453.0  40.847180 -73.921350   \n",
       "3  2018-07-11 22:15:00   BROOKLYN   11237.0  40.698864 -73.909890   \n",
       "4  2018-06-20 11:50:00  MANHATTAN   10016.0  40.748302 -73.978350   \n",
       "\n",
       "                      location       on_street_name cross_street_name  \\\n",
       "0   POINT (-73.90926 40.80582)  BRUCKNER EXPRESSWAY               NaN   \n",
       "1  POINT (-73.924774 40.84275)      WEST 171 STREET               NaN   \n",
       "2   POINT (-73.92135 40.84718)    MONTGOMERY AVENUE   WEST 174 STREET   \n",
       "3  POINT (-73.90989 40.698864)                  NaN               NaN   \n",
       "4  POINT (-73.97835 40.748302)       EAST 37 STREET  LEXINGTON AVENUE   \n",
       "\n",
       "            off_street_name  number_of_persons_injured  ...  \\\n",
       "0                       NaN                        0.0  ...   \n",
       "1                       NaN                        0.0  ...   \n",
       "2                       NaN                        0.0  ...   \n",
       "3  454       WYCKOFF AVENUE                        0.0  ...   \n",
       "4                       NaN                        0.0  ...   \n",
       "\n",
       "    contributing_factor_vehicle_2  contributing_factor_vehicle_3  \\\n",
       "0  Driver Inattention/Distraction                            NaN   \n",
       "1                     Unspecified                            NaN   \n",
       "2                     Unspecified                            NaN   \n",
       "3                     Unspecified                            NaN   \n",
       "4                     Unspecified                            NaN   \n",
       "\n",
       "   contributing_factor_vehicle_4  contributing_factor_vehicle_5  collision_id  \\\n",
       "0                            NaN                            NaN       3925049   \n",
       "1                            NaN                            NaN       3938002   \n",
       "2                            NaN                            NaN       3931268   \n",
       "3                            NaN                            NaN       3941136   \n",
       "4                            NaN                            NaN       3925007   \n",
       "\n",
       "                   vehicle_type_code_1  vehicle_type_code_2  \\\n",
       "0  Station Wagon/Sport Utility Vehicle                Sedan   \n",
       "1                                Sedan                  NaN   \n",
       "2                                Sedan                 Taxi   \n",
       "3  Station Wagon/Sport Utility Vehicle                  NaN   \n",
       "4                                Sedan                Sedan   \n",
       "\n",
       "  vehicle_type_code_3 vehicle_type_code_4 vehicle_type_code_5  \n",
       "0                 NaN                 NaN                 NaN  \n",
       "1                 NaN                 NaN                 NaN  \n",
       "2                 NaN                 NaN                 NaN  \n",
       "3                 NaN                 NaN                 NaN  \n",
       "4                 NaN                 NaN                 NaN  \n",
       "\n",
       "[5 rows x 28 columns]"
      ]
     },
     "execution_count": 19,
     "metadata": {},
     "output_type": "execute_result"
    }
   ],
   "source": [
    "data_stream = io.BytesIO(data_body)\n",
    "crashes_df = pd.read_csv(data_stream, header=0, delimiter=\",\") \n",
    "crashes_df.head()"
   ]
  },
  {
   "cell_type": "code",
   "execution_count": 20,
   "metadata": {},
   "outputs": [
    {
     "data": {
      "text/plain": [
       "Index(['crashes_datetime', 'borough', 'zip_code', 'latitude', 'longitude',\n",
       "       'location', 'on_street_name', 'cross_street_name', 'off_street_name',\n",
       "       'number_of_persons_injured', 'number_of_persons_killed',\n",
       "       'number_of_pedestrians_injured', 'number_of_pedestrians_killed',\n",
       "       'number_of_cyclist_injured', 'number_of_cyclist_killed',\n",
       "       'number_of_motorist_injured', 'number_of_motorist_killed',\n",
       "       'contributing_factor_vehicle_1', 'contributing_factor_vehicle_2',\n",
       "       'contributing_factor_vehicle_3', 'contributing_factor_vehicle_4',\n",
       "       'contributing_factor_vehicle_5', 'collision_id', 'vehicle_type_code_1',\n",
       "       'vehicle_type_code_2', 'vehicle_type_code_3', 'vehicle_type_code_4',\n",
       "       'vehicle_type_code_5'],\n",
       "      dtype='object')"
      ]
     },
     "execution_count": 20,
     "metadata": {},
     "output_type": "execute_result"
    }
   ],
   "source": [
    "crashes_df.columns"
   ]
  },
  {
   "cell_type": "code",
   "execution_count": 21,
   "metadata": {},
   "outputs": [
    {
     "data": {
      "text/html": [
       "<div>\n",
       "<style scoped>\n",
       "    .dataframe tbody tr th:only-of-type {\n",
       "        vertical-align: middle;\n",
       "    }\n",
       "\n",
       "    .dataframe tbody tr th {\n",
       "        vertical-align: top;\n",
       "    }\n",
       "\n",
       "    .dataframe thead th {\n",
       "        text-align: right;\n",
       "    }\n",
       "</style>\n",
       "<table border=\"1\" class=\"dataframe\">\n",
       "  <thead>\n",
       "    <tr style=\"text-align: right;\">\n",
       "      <th></th>\n",
       "      <th>crashes_datetime</th>\n",
       "      <th>borough</th>\n",
       "      <th>zip_code</th>\n",
       "      <th>latitude</th>\n",
       "      <th>longitude</th>\n",
       "      <th>location</th>\n",
       "      <th>on_street_name</th>\n",
       "      <th>cross_street_name</th>\n",
       "      <th>off_street_name</th>\n",
       "      <th>number_of_persons_injured</th>\n",
       "      <th>...</th>\n",
       "      <th>contributing_factor_vehicle_2</th>\n",
       "      <th>contributing_factor_vehicle_3</th>\n",
       "      <th>contributing_factor_vehicle_4</th>\n",
       "      <th>contributing_factor_vehicle_5</th>\n",
       "      <th>collision_id</th>\n",
       "      <th>vehicle_type_code_1</th>\n",
       "      <th>vehicle_type_code_2</th>\n",
       "      <th>vehicle_type_code_3</th>\n",
       "      <th>vehicle_type_code_4</th>\n",
       "      <th>vehicle_type_code_5</th>\n",
       "    </tr>\n",
       "  </thead>\n",
       "  <tbody>\n",
       "    <tr>\n",
       "      <th>2</th>\n",
       "      <td>2018-06-28 12:06:00</td>\n",
       "      <td>BRONX</td>\n",
       "      <td>10453.0</td>\n",
       "      <td>40.847180</td>\n",
       "      <td>-73.92135</td>\n",
       "      <td>POINT (-73.92135 40.84718)</td>\n",
       "      <td>MONTGOMERY AVENUE</td>\n",
       "      <td>WEST 174 STREET</td>\n",
       "      <td>NaN</td>\n",
       "      <td>0.0</td>\n",
       "      <td>...</td>\n",
       "      <td>Unspecified</td>\n",
       "      <td>NaN</td>\n",
       "      <td>NaN</td>\n",
       "      <td>NaN</td>\n",
       "      <td>3931268</td>\n",
       "      <td>Sedan</td>\n",
       "      <td>Taxi</td>\n",
       "      <td>NaN</td>\n",
       "      <td>NaN</td>\n",
       "      <td>NaN</td>\n",
       "    </tr>\n",
       "    <tr>\n",
       "      <th>13</th>\n",
       "      <td>2018-06-19 17:15:00</td>\n",
       "      <td>BRONX</td>\n",
       "      <td>10455.0</td>\n",
       "      <td>40.815823</td>\n",
       "      <td>-73.91706</td>\n",
       "      <td>POINT (-73.91706 40.815823)</td>\n",
       "      <td>NaN</td>\n",
       "      <td>NaN</td>\n",
       "      <td>421       EAST 149 STREET</td>\n",
       "      <td>0.0</td>\n",
       "      <td>...</td>\n",
       "      <td>Unspecified</td>\n",
       "      <td>NaN</td>\n",
       "      <td>NaN</td>\n",
       "      <td>NaN</td>\n",
       "      <td>3924341</td>\n",
       "      <td>Station Wagon/Sport Utility Vehicle</td>\n",
       "      <td>Sedan</td>\n",
       "      <td>NaN</td>\n",
       "      <td>NaN</td>\n",
       "      <td>NaN</td>\n",
       "    </tr>\n",
       "    <tr>\n",
       "      <th>20</th>\n",
       "      <td>2018-06-21 22:06:00</td>\n",
       "      <td>BRONX</td>\n",
       "      <td>10469.0</td>\n",
       "      <td>40.860893</td>\n",
       "      <td>-73.84321</td>\n",
       "      <td>POINT (-73.84321 40.860893)</td>\n",
       "      <td>EASTCHESTER ROAD</td>\n",
       "      <td>WARING AVENUE</td>\n",
       "      <td>NaN</td>\n",
       "      <td>2.0</td>\n",
       "      <td>...</td>\n",
       "      <td>NaN</td>\n",
       "      <td>NaN</td>\n",
       "      <td>NaN</td>\n",
       "      <td>NaN</td>\n",
       "      <td>3932136</td>\n",
       "      <td>Sedan</td>\n",
       "      <td>NaN</td>\n",
       "      <td>NaN</td>\n",
       "      <td>NaN</td>\n",
       "      <td>NaN</td>\n",
       "    </tr>\n",
       "    <tr>\n",
       "      <th>21</th>\n",
       "      <td>2018-06-28 10:25:00</td>\n",
       "      <td>BRONX</td>\n",
       "      <td>10453.0</td>\n",
       "      <td>40.850857</td>\n",
       "      <td>-73.90765</td>\n",
       "      <td>POINT (-73.90765 40.850857)</td>\n",
       "      <td>EAST TREMONT AVENUE</td>\n",
       "      <td>MORRIS AVENUE</td>\n",
       "      <td>NaN</td>\n",
       "      <td>0.0</td>\n",
       "      <td>...</td>\n",
       "      <td>Driver Inattention/Distraction</td>\n",
       "      <td>NaN</td>\n",
       "      <td>NaN</td>\n",
       "      <td>NaN</td>\n",
       "      <td>3931265</td>\n",
       "      <td>Station Wagon/Sport Utility Vehicle</td>\n",
       "      <td>Station Wagon/Sport Utility Vehicle</td>\n",
       "      <td>NaN</td>\n",
       "      <td>NaN</td>\n",
       "      <td>NaN</td>\n",
       "    </tr>\n",
       "    <tr>\n",
       "      <th>23</th>\n",
       "      <td>2018-07-10 21:45:00</td>\n",
       "      <td>BRONX</td>\n",
       "      <td>10466.0</td>\n",
       "      <td>40.889550</td>\n",
       "      <td>-73.84524</td>\n",
       "      <td>POINT (-73.84524 40.88955)</td>\n",
       "      <td>EAST 233 STREET</td>\n",
       "      <td>STRANG AVENUE</td>\n",
       "      <td>NaN</td>\n",
       "      <td>1.0</td>\n",
       "      <td>...</td>\n",
       "      <td>Unspecified</td>\n",
       "      <td>NaN</td>\n",
       "      <td>NaN</td>\n",
       "      <td>NaN</td>\n",
       "      <td>3939732</td>\n",
       "      <td>Pick-up Truck</td>\n",
       "      <td>Sedan</td>\n",
       "      <td>NaN</td>\n",
       "      <td>NaN</td>\n",
       "      <td>NaN</td>\n",
       "    </tr>\n",
       "  </tbody>\n",
       "</table>\n",
       "<p>5 rows × 28 columns</p>\n",
       "</div>"
      ],
      "text/plain": [
       "       crashes_datetime borough  zip_code   latitude  longitude  \\\n",
       "2   2018-06-28 12:06:00   BRONX   10453.0  40.847180  -73.92135   \n",
       "13  2018-06-19 17:15:00   BRONX   10455.0  40.815823  -73.91706   \n",
       "20  2018-06-21 22:06:00   BRONX   10469.0  40.860893  -73.84321   \n",
       "21  2018-06-28 10:25:00   BRONX   10453.0  40.850857  -73.90765   \n",
       "23  2018-07-10 21:45:00   BRONX   10466.0  40.889550  -73.84524   \n",
       "\n",
       "                       location       on_street_name cross_street_name  \\\n",
       "2    POINT (-73.92135 40.84718)    MONTGOMERY AVENUE   WEST 174 STREET   \n",
       "13  POINT (-73.91706 40.815823)                  NaN               NaN   \n",
       "20  POINT (-73.84321 40.860893)     EASTCHESTER ROAD     WARING AVENUE   \n",
       "21  POINT (-73.90765 40.850857)  EAST TREMONT AVENUE     MORRIS AVENUE   \n",
       "23   POINT (-73.84524 40.88955)      EAST 233 STREET     STRANG AVENUE   \n",
       "\n",
       "              off_street_name  number_of_persons_injured  ...  \\\n",
       "2                         NaN                        0.0  ...   \n",
       "13  421       EAST 149 STREET                        0.0  ...   \n",
       "20                        NaN                        2.0  ...   \n",
       "21                        NaN                        0.0  ...   \n",
       "23                        NaN                        1.0  ...   \n",
       "\n",
       "     contributing_factor_vehicle_2  contributing_factor_vehicle_3  \\\n",
       "2                      Unspecified                            NaN   \n",
       "13                     Unspecified                            NaN   \n",
       "20                             NaN                            NaN   \n",
       "21  Driver Inattention/Distraction                            NaN   \n",
       "23                     Unspecified                            NaN   \n",
       "\n",
       "    contributing_factor_vehicle_4  contributing_factor_vehicle_5  \\\n",
       "2                             NaN                            NaN   \n",
       "13                            NaN                            NaN   \n",
       "20                            NaN                            NaN   \n",
       "21                            NaN                            NaN   \n",
       "23                            NaN                            NaN   \n",
       "\n",
       "    collision_id                  vehicle_type_code_1  \\\n",
       "2        3931268                                Sedan   \n",
       "13       3924341  Station Wagon/Sport Utility Vehicle   \n",
       "20       3932136                                Sedan   \n",
       "21       3931265  Station Wagon/Sport Utility Vehicle   \n",
       "23       3939732                        Pick-up Truck   \n",
       "\n",
       "                    vehicle_type_code_2 vehicle_type_code_3  \\\n",
       "2                                  Taxi                 NaN   \n",
       "13                                Sedan                 NaN   \n",
       "20                                  NaN                 NaN   \n",
       "21  Station Wagon/Sport Utility Vehicle                 NaN   \n",
       "23                                Sedan                 NaN   \n",
       "\n",
       "   vehicle_type_code_4 vehicle_type_code_5  \n",
       "2                  NaN                 NaN  \n",
       "13                 NaN                 NaN  \n",
       "20                 NaN                 NaN  \n",
       "21                 NaN                 NaN  \n",
       "23                 NaN                 NaN  \n",
       "\n",
       "[5 rows x 28 columns]"
      ]
     },
     "execution_count": 21,
     "metadata": {},
     "output_type": "execute_result"
    }
   ],
   "source": [
    "# Bronx borough\n",
    "crashes_df[crashes_df.borough=='BRONX'].head()"
   ]
  },
  {
   "cell_type": "code",
   "execution_count": 49,
   "metadata": {
    "scrolled": true
   },
   "outputs": [
    {
     "data": {
      "text/plain": [
       "crashes_datetime                 717295\n",
       "borough                          457580\n",
       "zip_code                         457440\n",
       "latitude                         667480\n",
       "longitude                        667480\n",
       "location                         667480\n",
       "on_street_name                   546426\n",
       "cross_street_name                350378\n",
       "off_street_name                  169677\n",
       "number_of_persons_injured        717279\n",
       "number_of_persons_killed         717265\n",
       "number_of_pedestrians_injured    717295\n",
       "number_of_pedestrians_killed     717295\n",
       "number_of_cyclist_injured        717295\n",
       "number_of_cyclist_killed         717295\n",
       "number_of_motorist_injured       717295\n",
       "number_of_motorist_killed        717295\n",
       "contributing_factor_vehicle_1    715014\n",
       "contributing_factor_vehicle_2    608045\n",
       "contributing_factor_vehicle_3     46597\n",
       "contributing_factor_vehicle_4      9920\n",
       "contributing_factor_vehicle_5      2645\n",
       "collision_id                     717295\n",
       "vehicle_type_code_1              712848\n",
       "vehicle_type_code_2              548336\n",
       "vehicle_type_code_3               48598\n",
       "vehicle_type_code_4               14811\n",
       "vehicle_type_code_5                3334\n",
       "dtype: int64"
      ]
     },
     "execution_count": 49,
     "metadata": {},
     "output_type": "execute_result"
    }
   ],
   "source": [
    "crashes_df.count()"
   ]
  },
  {
   "cell_type": "code",
   "execution_count": 68,
   "metadata": {
    "scrolled": true
   },
   "outputs": [
    {
     "data": {
      "text/html": [
       "<div>\n",
       "<style scoped>\n",
       "    .dataframe tbody tr th:only-of-type {\n",
       "        vertical-align: middle;\n",
       "    }\n",
       "\n",
       "    .dataframe tbody tr th {\n",
       "        vertical-align: top;\n",
       "    }\n",
       "\n",
       "    .dataframe thead th {\n",
       "        text-align: right;\n",
       "    }\n",
       "</style>\n",
       "<table border=\"1\" class=\"dataframe\">\n",
       "  <thead>\n",
       "    <tr style=\"text-align: right;\">\n",
       "      <th></th>\n",
       "      <th>crashes_datetime</th>\n",
       "      <th>borough</th>\n",
       "      <th>zip_code</th>\n",
       "      <th>latitude</th>\n",
       "      <th>longitude</th>\n",
       "      <th>location</th>\n",
       "      <th>on_street_name</th>\n",
       "      <th>cross_street_name</th>\n",
       "      <th>off_street_name</th>\n",
       "      <th>number_of_persons_injured</th>\n",
       "      <th>...</th>\n",
       "      <th>contributing_factor_vehicle_2</th>\n",
       "      <th>contributing_factor_vehicle_3</th>\n",
       "      <th>contributing_factor_vehicle_4</th>\n",
       "      <th>contributing_factor_vehicle_5</th>\n",
       "      <th>collision_id</th>\n",
       "      <th>vehicle_type_code_1</th>\n",
       "      <th>vehicle_type_code_2</th>\n",
       "      <th>vehicle_type_code_3</th>\n",
       "      <th>vehicle_type_code_4</th>\n",
       "      <th>vehicle_type_code_5</th>\n",
       "    </tr>\n",
       "  </thead>\n",
       "  <tbody>\n",
       "    <tr>\n",
       "      <th>0</th>\n",
       "      <td>2018-06-20 17:25:00</td>\n",
       "      <td>NaN</td>\n",
       "      <td>NaN</td>\n",
       "      <td>40.805820</td>\n",
       "      <td>-73.909260</td>\n",
       "      <td>POINT (-73.90926 40.80582)</td>\n",
       "      <td>BRUCKNER EXPRESSWAY</td>\n",
       "      <td>NaN</td>\n",
       "      <td>NaN</td>\n",
       "      <td>0.0</td>\n",
       "      <td>...</td>\n",
       "      <td>Driver Inattention/Distraction</td>\n",
       "      <td>NaN</td>\n",
       "      <td>NaN</td>\n",
       "      <td>NaN</td>\n",
       "      <td>3925049</td>\n",
       "      <td>Station Wagon/Sport Utility Vehicle</td>\n",
       "      <td>Sedan</td>\n",
       "      <td>NaN</td>\n",
       "      <td>NaN</td>\n",
       "      <td>NaN</td>\n",
       "    </tr>\n",
       "    <tr>\n",
       "      <th>1</th>\n",
       "      <td>2018-07-09 09:20:00</td>\n",
       "      <td>NaN</td>\n",
       "      <td>NaN</td>\n",
       "      <td>40.842750</td>\n",
       "      <td>-73.924774</td>\n",
       "      <td>POINT (-73.924774 40.84275)</td>\n",
       "      <td>WEST 171 STREET</td>\n",
       "      <td>NaN</td>\n",
       "      <td>NaN</td>\n",
       "      <td>0.0</td>\n",
       "      <td>...</td>\n",
       "      <td>Unspecified</td>\n",
       "      <td>NaN</td>\n",
       "      <td>NaN</td>\n",
       "      <td>NaN</td>\n",
       "      <td>3938002</td>\n",
       "      <td>Sedan</td>\n",
       "      <td>NaN</td>\n",
       "      <td>NaN</td>\n",
       "      <td>NaN</td>\n",
       "      <td>NaN</td>\n",
       "    </tr>\n",
       "    <tr>\n",
       "      <th>2</th>\n",
       "      <td>2018-06-28 12:06:00</td>\n",
       "      <td>BRONX</td>\n",
       "      <td>10453.0</td>\n",
       "      <td>40.847180</td>\n",
       "      <td>-73.921350</td>\n",
       "      <td>POINT (-73.92135 40.84718)</td>\n",
       "      <td>MONTGOMERY AVENUE</td>\n",
       "      <td>WEST 174 STREET</td>\n",
       "      <td>NaN</td>\n",
       "      <td>0.0</td>\n",
       "      <td>...</td>\n",
       "      <td>Unspecified</td>\n",
       "      <td>NaN</td>\n",
       "      <td>NaN</td>\n",
       "      <td>NaN</td>\n",
       "      <td>3931268</td>\n",
       "      <td>Sedan</td>\n",
       "      <td>Taxi</td>\n",
       "      <td>NaN</td>\n",
       "      <td>NaN</td>\n",
       "      <td>NaN</td>\n",
       "    </tr>\n",
       "    <tr>\n",
       "      <th>3</th>\n",
       "      <td>2018-07-11 22:15:00</td>\n",
       "      <td>BROOKLYN</td>\n",
       "      <td>11237.0</td>\n",
       "      <td>40.698864</td>\n",
       "      <td>-73.909890</td>\n",
       "      <td>POINT (-73.90989 40.698864)</td>\n",
       "      <td>NaN</td>\n",
       "      <td>NaN</td>\n",
       "      <td>454       WYCKOFF AVENUE</td>\n",
       "      <td>0.0</td>\n",
       "      <td>...</td>\n",
       "      <td>Unspecified</td>\n",
       "      <td>NaN</td>\n",
       "      <td>NaN</td>\n",
       "      <td>NaN</td>\n",
       "      <td>3941136</td>\n",
       "      <td>Station Wagon/Sport Utility Vehicle</td>\n",
       "      <td>NaN</td>\n",
       "      <td>NaN</td>\n",
       "      <td>NaN</td>\n",
       "      <td>NaN</td>\n",
       "    </tr>\n",
       "    <tr>\n",
       "      <th>4</th>\n",
       "      <td>2018-06-20 11:50:00</td>\n",
       "      <td>MANHATTAN</td>\n",
       "      <td>10016.0</td>\n",
       "      <td>40.748302</td>\n",
       "      <td>-73.978350</td>\n",
       "      <td>POINT (-73.97835 40.748302)</td>\n",
       "      <td>EAST 37 STREET</td>\n",
       "      <td>LEXINGTON AVENUE</td>\n",
       "      <td>NaN</td>\n",
       "      <td>0.0</td>\n",
       "      <td>...</td>\n",
       "      <td>Unspecified</td>\n",
       "      <td>NaN</td>\n",
       "      <td>NaN</td>\n",
       "      <td>NaN</td>\n",
       "      <td>3925007</td>\n",
       "      <td>Sedan</td>\n",
       "      <td>Sedan</td>\n",
       "      <td>NaN</td>\n",
       "      <td>NaN</td>\n",
       "      <td>NaN</td>\n",
       "    </tr>\n",
       "  </tbody>\n",
       "</table>\n",
       "<p>5 rows × 28 columns</p>\n",
       "</div>"
      ],
      "text/plain": [
       "      crashes_datetime    borough  zip_code   latitude  longitude  \\\n",
       "0  2018-06-20 17:25:00        NaN       NaN  40.805820 -73.909260   \n",
       "1  2018-07-09 09:20:00        NaN       NaN  40.842750 -73.924774   \n",
       "2  2018-06-28 12:06:00      BRONX   10453.0  40.847180 -73.921350   \n",
       "3  2018-07-11 22:15:00   BROOKLYN   11237.0  40.698864 -73.909890   \n",
       "4  2018-06-20 11:50:00  MANHATTAN   10016.0  40.748302 -73.978350   \n",
       "\n",
       "                      location       on_street_name cross_street_name  \\\n",
       "0   POINT (-73.90926 40.80582)  BRUCKNER EXPRESSWAY               NaN   \n",
       "1  POINT (-73.924774 40.84275)      WEST 171 STREET               NaN   \n",
       "2   POINT (-73.92135 40.84718)    MONTGOMERY AVENUE   WEST 174 STREET   \n",
       "3  POINT (-73.90989 40.698864)                  NaN               NaN   \n",
       "4  POINT (-73.97835 40.748302)       EAST 37 STREET  LEXINGTON AVENUE   \n",
       "\n",
       "            off_street_name  number_of_persons_injured  ...  \\\n",
       "0                       NaN                        0.0  ...   \n",
       "1                       NaN                        0.0  ...   \n",
       "2                       NaN                        0.0  ...   \n",
       "3  454       WYCKOFF AVENUE                        0.0  ...   \n",
       "4                       NaN                        0.0  ...   \n",
       "\n",
       "    contributing_factor_vehicle_2  contributing_factor_vehicle_3  \\\n",
       "0  Driver Inattention/Distraction                            NaN   \n",
       "1                     Unspecified                            NaN   \n",
       "2                     Unspecified                            NaN   \n",
       "3                     Unspecified                            NaN   \n",
       "4                     Unspecified                            NaN   \n",
       "\n",
       "   contributing_factor_vehicle_4  contributing_factor_vehicle_5  collision_id  \\\n",
       "0                            NaN                            NaN       3925049   \n",
       "1                            NaN                            NaN       3938002   \n",
       "2                            NaN                            NaN       3931268   \n",
       "3                            NaN                            NaN       3941136   \n",
       "4                            NaN                            NaN       3925007   \n",
       "\n",
       "                   vehicle_type_code_1  vehicle_type_code_2  \\\n",
       "0  Station Wagon/Sport Utility Vehicle                Sedan   \n",
       "1                                Sedan                  NaN   \n",
       "2                                Sedan                 Taxi   \n",
       "3  Station Wagon/Sport Utility Vehicle                  NaN   \n",
       "4                                Sedan                Sedan   \n",
       "\n",
       "  vehicle_type_code_3 vehicle_type_code_4 vehicle_type_code_5  \n",
       "0                 NaN                 NaN                 NaN  \n",
       "1                 NaN                 NaN                 NaN  \n",
       "2                 NaN                 NaN                 NaN  \n",
       "3                 NaN                 NaN                 NaN  \n",
       "4                 NaN                 NaN                 NaN  \n",
       "\n",
       "[5 rows x 28 columns]"
      ]
     },
     "execution_count": 68,
     "metadata": {},
     "output_type": "execute_result"
    }
   ],
   "source": [
    "# Rows with lat, lon set\n",
    "crashes_df[~crashes_df['latitude'].isna()].head()"
   ]
  },
  {
   "cell_type": "code",
   "execution_count": 48,
   "metadata": {},
   "outputs": [
    {
     "data": {
      "text/plain": [
       "(667480, 28)"
      ]
     },
     "execution_count": 48,
     "metadata": {},
     "output_type": "execute_result"
    }
   ],
   "source": [
    "crashes_df[~crashes_df['latitude'].isna()].shape"
   ]
  },
  {
   "cell_type": "code",
   "execution_count": 31,
   "metadata": {},
   "outputs": [
    {
     "data": {
      "text/plain": [
       "'2018-07-09 09:20:00'"
      ]
     },
     "execution_count": 31,
     "metadata": {},
     "output_type": "execute_result"
    }
   ],
   "source": [
    "crashes_df.iloc[1,0]  # cell"
   ]
  },
  {
   "cell_type": "code",
   "execution_count": 35,
   "metadata": {},
   "outputs": [
    {
     "data": {
      "text/html": [
       "<div>\n",
       "<style scoped>\n",
       "    .dataframe tbody tr th:only-of-type {\n",
       "        vertical-align: middle;\n",
       "    }\n",
       "\n",
       "    .dataframe tbody tr th {\n",
       "        vertical-align: top;\n",
       "    }\n",
       "\n",
       "    .dataframe thead th {\n",
       "        text-align: right;\n",
       "    }\n",
       "</style>\n",
       "<table border=\"1\" class=\"dataframe\">\n",
       "  <thead>\n",
       "    <tr style=\"text-align: right;\">\n",
       "      <th></th>\n",
       "      <th>latitude</th>\n",
       "      <th>longitude</th>\n",
       "    </tr>\n",
       "  </thead>\n",
       "  <tbody>\n",
       "    <tr>\n",
       "      <th>0</th>\n",
       "      <td>40.805820</td>\n",
       "      <td>-73.909260</td>\n",
       "    </tr>\n",
       "    <tr>\n",
       "      <th>1</th>\n",
       "      <td>40.842750</td>\n",
       "      <td>-73.924774</td>\n",
       "    </tr>\n",
       "    <tr>\n",
       "      <th>2</th>\n",
       "      <td>40.847180</td>\n",
       "      <td>-73.921350</td>\n",
       "    </tr>\n",
       "    <tr>\n",
       "      <th>3</th>\n",
       "      <td>40.698864</td>\n",
       "      <td>-73.909890</td>\n",
       "    </tr>\n",
       "    <tr>\n",
       "      <th>4</th>\n",
       "      <td>40.748302</td>\n",
       "      <td>-73.978350</td>\n",
       "    </tr>\n",
       "  </tbody>\n",
       "</table>\n",
       "</div>"
      ],
      "text/plain": [
       "    latitude  longitude\n",
       "0  40.805820 -73.909260\n",
       "1  40.842750 -73.924774\n",
       "2  40.847180 -73.921350\n",
       "3  40.698864 -73.909890\n",
       "4  40.748302 -73.978350"
      ]
     },
     "execution_count": 35,
     "metadata": {},
     "output_type": "execute_result"
    }
   ],
   "source": [
    "# crashes_df.index\n",
    "# Display only latitude and longitude\n",
    "crashes_df[['latitude', 'longitude']].head()"
   ]
  },
  {
   "cell_type": "code",
   "execution_count": 36,
   "metadata": {},
   "outputs": [
    {
     "data": {
      "text/plain": [
       "(717295, 28)"
      ]
     },
     "execution_count": 36,
     "metadata": {},
     "output_type": "execute_result"
    }
   ],
   "source": [
    "# Count rows and columns\n",
    "crashes_df.shape"
   ]
  },
  {
   "cell_type": "code",
   "execution_count": 37,
   "metadata": {},
   "outputs": [
    {
     "data": {
      "text/plain": [
       "790.0"
      ]
     },
     "execution_count": 37,
     "metadata": {},
     "output_type": "execute_result"
    }
   ],
   "source": [
    "# Number of killed people\n",
    "crashes_df['number_of_persons_killed'].sum()"
   ]
  },
  {
   "cell_type": "code",
   "execution_count": 56,
   "metadata": {},
   "outputs": [
    {
     "data": {
      "text/plain": [
       "(272373, 28)"
      ]
     },
     "execution_count": 56,
     "metadata": {},
     "output_type": "execute_result"
    }
   ],
   "source": [
    "# Select data after 2019\n",
    "crashes_df[crashes_df['crashes_datetime'] > '2018-12-04'].shape"
   ]
  },
  {
   "cell_type": "code",
   "execution_count": 55,
   "metadata": {},
   "outputs": [
    {
     "name": "stderr",
     "output_type": "stream",
     "text": [
      "/home/ec2-user/anaconda3/envs/python3/lib/python3.6/site-packages/ipykernel/__main__.py:1: UserWarning: Boolean Series key will be reindexed to match DataFrame index.\n",
      "  if __name__ == '__main__':\n"
     ]
    },
    {
     "data": {
      "text/plain": [
       "(250133, 28)"
      ]
     },
     "execution_count": 55,
     "metadata": {},
     "output_type": "execute_result"
    }
   ],
   "source": [
    "# Select data after 2019 with lat, lon set\n",
    "crashes_df[crashes_df['crashes_datetime'] > '2018-12-04'][~crashes_df['latitude'].isna()].shape"
   ]
  },
  {
   "cell_type": "code",
   "execution_count": 57,
   "metadata": {},
   "outputs": [
    {
     "data": {
      "text/plain": [
       "crashes_datetime                      0\n",
       "borough                          259715\n",
       "zip_code                         259855\n",
       "latitude                          49815\n",
       "longitude                         49815\n",
       "location                          49815\n",
       "on_street_name                   170869\n",
       "cross_street_name                366917\n",
       "off_street_name                  547618\n",
       "number_of_persons_injured            16\n",
       "number_of_persons_killed             30\n",
       "number_of_pedestrians_injured         0\n",
       "number_of_pedestrians_killed          0\n",
       "number_of_cyclist_injured             0\n",
       "number_of_cyclist_killed              0\n",
       "number_of_motorist_injured            0\n",
       "number_of_motorist_killed             0\n",
       "contributing_factor_vehicle_1      2281\n",
       "contributing_factor_vehicle_2    109250\n",
       "contributing_factor_vehicle_3    670698\n",
       "contributing_factor_vehicle_4    707375\n",
       "contributing_factor_vehicle_5    714650\n",
       "collision_id                          0\n",
       "vehicle_type_code_1                4447\n",
       "vehicle_type_code_2              168959\n",
       "vehicle_type_code_3              668697\n",
       "vehicle_type_code_4              702484\n",
       "vehicle_type_code_5              713961\n",
       "dtype: int64"
      ]
     },
     "execution_count": 57,
     "metadata": {},
     "output_type": "execute_result"
    }
   ],
   "source": [
    "crashes_df.isna().sum()"
   ]
  },
  {
   "cell_type": "code",
   "execution_count": 73,
   "metadata": {},
   "outputs": [
    {
     "name": "stderr",
     "output_type": "stream",
     "text": [
      "/home/ec2-user/anaconda3/envs/python3/lib/python3.6/site-packages/pandas/core/indexing.py:543: SettingWithCopyWarning: \n",
      "A value is trying to be set on a copy of a slice from a DataFrame.\n",
      "Try using .loc[row_indexer,col_indexer] = value instead\n",
      "\n",
      "See the caveats in the documentation: http://pandas.pydata.org/pandas-docs/stable/indexing.html#indexing-view-versus-copy\n",
      "  self.obj[item] = s\n"
     ]
    },
    {
     "data": {
      "text/plain": [
       "number_of_persons_injured        717295\n",
       "number_of_persons_killed         717295\n",
       "number_of_pedestrians_injured    717295\n",
       "number_of_pedestrians_killed     717295\n",
       "number_of_cyclist_injured        717295\n",
       "number_of_cyclist_killed         717295\n",
       "number_of_motorist_injured       717295\n",
       "number_of_motorist_killed        717295\n",
       "dtype: int64"
      ]
     },
     "execution_count": 73,
     "metadata": {},
     "output_type": "execute_result"
    }
   ],
   "source": [
    "columns = [\n",
    "    'number_of_persons_injured', 'number_of_persons_killed',\n",
    "    'number_of_pedestrians_injured', 'number_of_pedestrians_killed',\n",
    "    'number_of_cyclist_injured', 'number_of_cyclist_killed',\n",
    "    'number_of_motorist_injured', 'number_of_motorist_killed']\n",
    "clean_crashes_df = crashes_df[columns]\n",
    "clean_crashes_df.loc[clean_crashes_df.number_of_persons_injured.isna(), 'number_of_persons_injured'] = 0\n",
    "clean_crashes_df.loc[clean_crashes_df.number_of_persons_killed.isna(), 'number_of_persons_killed'] = 0\n",
    "# clean_crashes_df.head()\n",
    "clean_crashes_df.count()"
   ]
  },
  {
   "cell_type": "code",
   "execution_count": 59,
   "metadata": {},
   "outputs": [
    {
     "name": "stdout",
     "output_type": "stream",
     "text": [
      "arn:aws:iam::006275120779:role/service-role/AmazonSageMaker-ExecutionRole-20200401T204101\n"
     ]
    }
   ],
   "source": [
    "from sagemaker import get_execution_role\n",
    "\n",
    "session = sagemaker.Session() # store the current SageMaker session\n",
    "\n",
    "# get IAM role\n",
    "role = get_execution_role()\n",
    "print(role)"
   ]
  },
  {
   "cell_type": "code",
   "execution_count": 76,
   "metadata": {},
   "outputs": [],
   "source": [
    "bucket_name = 'mvc-crashes'\n",
    "prefix = 'output'\n",
    "output_path = 's3://{}/{}'.format(bucket_name, prefix)"
   ]
  },
  {
   "cell_type": "code",
   "execution_count": 77,
   "metadata": {},
   "outputs": [],
   "source": [
    "# define a PCA model\n",
    "from sagemaker import PCA\n",
    "\n",
    "# features - 1\n",
    "N_COMPONENTS = len(clean_crashes_df.columns)-1\n",
    "\n",
    "pca_SM = PCA(role=role,\n",
    "             train_instance_count=1,\n",
    "             train_instance_type='ml.c4.xlarge',\n",
    "             output_path=output_path, # specified, above\n",
    "             num_components=N_COMPONENTS, \n",
    "             sagemaker_session=session)"
   ]
  },
  {
   "cell_type": "code",
   "execution_count": 78,
   "metadata": {},
   "outputs": [],
   "source": [
    "# convert df to np array\n",
    "train_data_np = clean_crashes_df.values.astype('float32')\n",
    "\n",
    "# convert to RecordSet format\n",
    "formatted_train_data = pca_SM.record_set(train_data_np)"
   ]
  },
  {
   "cell_type": "code",
   "execution_count": 79,
   "metadata": {},
   "outputs": [
    {
     "name": "stdout",
     "output_type": "stream",
     "text": [
      "2020-05-25 03:07:58 Starting - Starting the training job...\n",
      "2020-05-25 03:08:00 Starting - Launching requested ML instances......\n",
      "2020-05-25 03:09:09 Starting - Preparing the instances for training......\n",
      "2020-05-25 03:10:23 Downloading - Downloading input data\n",
      "2020-05-25 03:10:23 Training - Downloading the training image...\n",
      "2020-05-25 03:10:54 Uploading - Uploading generated training model\n",
      "2020-05-25 03:10:54 Completed - Training job completed\n",
      "\u001b[34mDocker entrypoint called with argument(s): train\u001b[0m\n",
      "\u001b[34mRunning default environment configuration script\u001b[0m\n",
      "\u001b[34m[05/25/2020 03:10:45 INFO 139699054421824] Reading default configuration from /opt/amazon/lib/python2.7/site-packages/algorithm/resources/default-conf.json: {u'_num_gpus': u'auto', u'_log_level': u'info', u'subtract_mean': u'true', u'force_dense': u'true', u'epochs': 1, u'algorithm_mode': u'regular', u'extra_components': u'-1', u'_kvstore': u'dist_sync', u'_num_kv_servers': u'auto'}\u001b[0m\n",
      "\u001b[34m[05/25/2020 03:10:45 INFO 139699054421824] Reading provided configuration from /opt/ml/input/config/hyperparameters.json: {u'feature_dim': u'8', u'mini_batch_size': u'500', u'num_components': u'7'}\u001b[0m\n",
      "\u001b[34m[05/25/2020 03:10:45 INFO 139699054421824] Final configuration: {u'num_components': u'7', u'_num_gpus': u'auto', u'_log_level': u'info', u'subtract_mean': u'true', u'force_dense': u'true', u'epochs': 1, u'algorithm_mode': u'regular', u'feature_dim': u'8', u'extra_components': u'-1', u'_kvstore': u'dist_sync', u'_num_kv_servers': u'auto', u'mini_batch_size': u'500'}\u001b[0m\n",
      "\u001b[34m[05/25/2020 03:10:45 WARNING 139699054421824] Loggers have already been setup.\u001b[0m\n",
      "\u001b[34m[05/25/2020 03:10:45 INFO 139699054421824] Launching parameter server for role scheduler\u001b[0m\n",
      "\u001b[34m[05/25/2020 03:10:45 INFO 139699054421824] {'ECS_CONTAINER_METADATA_URI': 'http://169.254.170.2/v3/48603a0f-72ef-4eb3-a2bc-17158a1d2f2e', 'PROTOCOL_BUFFERS_PYTHON_IMPLEMENTATION_VERSION': '2', 'PATH': '/opt/amazon/bin:/usr/local/nvidia/bin:/usr/local/sbin:/usr/local/bin:/usr/sbin:/usr/bin:/sbin:/bin:/opt/amazon/bin:/opt/amazon/bin', 'SAGEMAKER_HTTP_PORT': '8080', 'HOME': '/root', 'PYTHONUNBUFFERED': 'TRUE', 'CANONICAL_ENVROOT': '/opt/amazon', 'LD_LIBRARY_PATH': '/opt/amazon/lib/python2.7/site-packages/cv2/../../../../lib:/usr/local/nvidia/lib64:/opt/amazon/lib', 'LANG': 'en_US.utf8', 'DMLC_INTERFACE': 'eth0', 'SHLVL': '1', 'AWS_REGION': 'us-west-2', 'NVIDIA_VISIBLE_DEVICES': 'void', 'TRAINING_JOB_NAME': 'pca-2020-05-25-03-07-58-435', 'PROTOCOL_BUFFERS_PYTHON_IMPLEMENTATION': 'cpp', 'ENVROOT': '/opt/amazon', 'SAGEMAKER_DATA_PATH': '/opt/ml', 'NVIDIA_DRIVER_CAPABILITIES': 'compute,utility', 'NVIDIA_REQUIRE_CUDA': 'cuda>=9.0', 'OMP_NUM_THREADS': '2', 'HOSTNAME': 'ip-10-0-66-235.us-west-2.compute.internal', 'AWS_CONTAINER_CREDENTIALS_RELATIVE_URI': '/v2/credentials/85e88304-2660-4355-8b86-34358778acc0', 'PWD': '/', 'TRAINING_JOB_ARN': 'arn:aws:sagemaker:us-west-2:006275120779:training-job/pca-2020-05-25-03-07-58-435', 'AWS_EXECUTION_ENV': 'AWS_ECS_EC2'}\u001b[0m\n",
      "\u001b[34m[05/25/2020 03:10:45 INFO 139699054421824] envs={'ECS_CONTAINER_METADATA_URI': 'http://169.254.170.2/v3/48603a0f-72ef-4eb3-a2bc-17158a1d2f2e', 'PROTOCOL_BUFFERS_PYTHON_IMPLEMENTATION_VERSION': '2', 'DMLC_NUM_WORKER': '1', 'DMLC_PS_ROOT_PORT': '9000', 'PATH': '/opt/amazon/bin:/usr/local/nvidia/bin:/usr/local/sbin:/usr/local/bin:/usr/sbin:/usr/bin:/sbin:/bin:/opt/amazon/bin:/opt/amazon/bin', 'SAGEMAKER_HTTP_PORT': '8080', 'HOME': '/root', 'PYTHONUNBUFFERED': 'TRUE', 'CANONICAL_ENVROOT': '/opt/amazon', 'LD_LIBRARY_PATH': '/opt/amazon/lib/python2.7/site-packages/cv2/../../../../lib:/usr/local/nvidia/lib64:/opt/amazon/lib', 'LANG': 'en_US.utf8', 'DMLC_INTERFACE': 'eth0', 'SHLVL': '1', 'DMLC_PS_ROOT_URI': '10.0.66.235', 'AWS_REGION': 'us-west-2', 'NVIDIA_VISIBLE_DEVICES': 'void', 'TRAINING_JOB_NAME': 'pca-2020-05-25-03-07-58-435', 'PROTOCOL_BUFFERS_PYTHON_IMPLEMENTATION': 'cpp', 'ENVROOT': '/opt/amazon', 'SAGEMAKER_DATA_PATH': '/opt/ml', 'NVIDIA_DRIVER_CAPABILITIES': 'compute,utility', 'NVIDIA_REQUIRE_CUDA': 'cuda>=9.0', 'OMP_NUM_THREADS': '2', 'HOSTNAME': 'ip-10-0-66-235.us-west-2.compute.internal', 'AWS_CONTAINER_CREDENTIALS_RELATIVE_URI': '/v2/credentials/85e88304-2660-4355-8b86-34358778acc0', 'DMLC_ROLE': 'scheduler', 'PWD': '/', 'DMLC_NUM_SERVER': '1', 'TRAINING_JOB_ARN': 'arn:aws:sagemaker:us-west-2:006275120779:training-job/pca-2020-05-25-03-07-58-435', 'AWS_EXECUTION_ENV': 'AWS_ECS_EC2'}\u001b[0m\n",
      "\u001b[34m[05/25/2020 03:10:45 INFO 139699054421824] Launching parameter server for role server\u001b[0m\n",
      "\u001b[34m[05/25/2020 03:10:45 INFO 139699054421824] {'ECS_CONTAINER_METADATA_URI': 'http://169.254.170.2/v3/48603a0f-72ef-4eb3-a2bc-17158a1d2f2e', 'PROTOCOL_BUFFERS_PYTHON_IMPLEMENTATION_VERSION': '2', 'PATH': '/opt/amazon/bin:/usr/local/nvidia/bin:/usr/local/sbin:/usr/local/bin:/usr/sbin:/usr/bin:/sbin:/bin:/opt/amazon/bin:/opt/amazon/bin', 'SAGEMAKER_HTTP_PORT': '8080', 'HOME': '/root', 'PYTHONUNBUFFERED': 'TRUE', 'CANONICAL_ENVROOT': '/opt/amazon', 'LD_LIBRARY_PATH': '/opt/amazon/lib/python2.7/site-packages/cv2/../../../../lib:/usr/local/nvidia/lib64:/opt/amazon/lib', 'LANG': 'en_US.utf8', 'DMLC_INTERFACE': 'eth0', 'SHLVL': '1', 'AWS_REGION': 'us-west-2', 'NVIDIA_VISIBLE_DEVICES': 'void', 'TRAINING_JOB_NAME': 'pca-2020-05-25-03-07-58-435', 'PROTOCOL_BUFFERS_PYTHON_IMPLEMENTATION': 'cpp', 'ENVROOT': '/opt/amazon', 'SAGEMAKER_DATA_PATH': '/opt/ml', 'NVIDIA_DRIVER_CAPABILITIES': 'compute,utility', 'NVIDIA_REQUIRE_CUDA': 'cuda>=9.0', 'OMP_NUM_THREADS': '2', 'HOSTNAME': 'ip-10-0-66-235.us-west-2.compute.internal', 'AWS_CONTAINER_CREDENTIALS_RELATIVE_URI': '/v2/credentials/85e88304-2660-4355-8b86-34358778acc0', 'PWD': '/', 'TRAINING_JOB_ARN': 'arn:aws:sagemaker:us-west-2:006275120779:training-job/pca-2020-05-25-03-07-58-435', 'AWS_EXECUTION_ENV': 'AWS_ECS_EC2'}\u001b[0m\n",
      "\u001b[34m[05/25/2020 03:10:45 INFO 139699054421824] envs={'ECS_CONTAINER_METADATA_URI': 'http://169.254.170.2/v3/48603a0f-72ef-4eb3-a2bc-17158a1d2f2e', 'PROTOCOL_BUFFERS_PYTHON_IMPLEMENTATION_VERSION': '2', 'DMLC_NUM_WORKER': '1', 'DMLC_PS_ROOT_PORT': '9000', 'PATH': '/opt/amazon/bin:/usr/local/nvidia/bin:/usr/local/sbin:/usr/local/bin:/usr/sbin:/usr/bin:/sbin:/bin:/opt/amazon/bin:/opt/amazon/bin', 'SAGEMAKER_HTTP_PORT': '8080', 'HOME': '/root', 'PYTHONUNBUFFERED': 'TRUE', 'CANONICAL_ENVROOT': '/opt/amazon', 'LD_LIBRARY_PATH': '/opt/amazon/lib/python2.7/site-packages/cv2/../../../../lib:/usr/local/nvidia/lib64:/opt/amazon/lib', 'LANG': 'en_US.utf8', 'DMLC_INTERFACE': 'eth0', 'SHLVL': '1', 'DMLC_PS_ROOT_URI': '10.0.66.235', 'AWS_REGION': 'us-west-2', 'NVIDIA_VISIBLE_DEVICES': 'void', 'TRAINING_JOB_NAME': 'pca-2020-05-25-03-07-58-435', 'PROTOCOL_BUFFERS_PYTHON_IMPLEMENTATION': 'cpp', 'ENVROOT': '/opt/amazon', 'SAGEMAKER_DATA_PATH': '/opt/ml', 'NVIDIA_DRIVER_CAPABILITIES': 'compute,utility', 'NVIDIA_REQUIRE_CUDA': 'cuda>=9.0', 'OMP_NUM_THREADS': '2', 'HOSTNAME': 'ip-10-0-66-235.us-west-2.compute.internal', 'AWS_CONTAINER_CREDENTIALS_RELATIVE_URI': '/v2/credentials/85e88304-2660-4355-8b86-34358778acc0', 'DMLC_ROLE': 'server', 'PWD': '/', 'DMLC_NUM_SERVER': '1', 'TRAINING_JOB_ARN': 'arn:aws:sagemaker:us-west-2:006275120779:training-job/pca-2020-05-25-03-07-58-435', 'AWS_EXECUTION_ENV': 'AWS_ECS_EC2'}\u001b[0m\n",
      "\u001b[34m[05/25/2020 03:10:45 INFO 139699054421824] Environment: {'ECS_CONTAINER_METADATA_URI': 'http://169.254.170.2/v3/48603a0f-72ef-4eb3-a2bc-17158a1d2f2e', 'PROTOCOL_BUFFERS_PYTHON_IMPLEMENTATION_VERSION': '2', 'DMLC_PS_ROOT_PORT': '9000', 'DMLC_NUM_WORKER': '1', 'SAGEMAKER_HTTP_PORT': '8080', 'PATH': '/opt/amazon/bin:/usr/local/nvidia/bin:/usr/local/sbin:/usr/local/bin:/usr/sbin:/usr/bin:/sbin:/bin:/opt/amazon/bin:/opt/amazon/bin', 'PYTHONUNBUFFERED': 'TRUE', 'CANONICAL_ENVROOT': '/opt/amazon', 'LD_LIBRARY_PATH': '/opt/amazon/lib/python2.7/site-packages/cv2/../../../../lib:/usr/local/nvidia/lib64:/opt/amazon/lib', 'LANG': 'en_US.utf8', 'DMLC_INTERFACE': 'eth0', 'SHLVL': '1', 'DMLC_PS_ROOT_URI': '10.0.66.235', 'AWS_REGION': 'us-west-2', 'NVIDIA_VISIBLE_DEVICES': 'void', 'TRAINING_JOB_NAME': 'pca-2020-05-25-03-07-58-435', 'HOME': '/root', 'PROTOCOL_BUFFERS_PYTHON_IMPLEMENTATION': 'cpp', 'ENVROOT': '/opt/amazon', 'SAGEMAKER_DATA_PATH': '/opt/ml', 'NVIDIA_DRIVER_CAPABILITIES': 'compute,utility', 'NVIDIA_REQUIRE_CUDA': 'cuda>=9.0', 'OMP_NUM_THREADS': '2', 'HOSTNAME': 'ip-10-0-66-235.us-west-2.compute.internal', 'AWS_CONTAINER_CREDENTIALS_RELATIVE_URI': '/v2/credentials/85e88304-2660-4355-8b86-34358778acc0', 'DMLC_ROLE': 'worker', 'PWD': '/', 'DMLC_NUM_SERVER': '1', 'TRAINING_JOB_ARN': 'arn:aws:sagemaker:us-west-2:006275120779:training-job/pca-2020-05-25-03-07-58-435', 'AWS_EXECUTION_ENV': 'AWS_ECS_EC2'}\u001b[0m\n",
      "\u001b[34mProcess 61 is a shell:scheduler.\u001b[0m\n",
      "\u001b[34mProcess 70 is a shell:server.\u001b[0m\n",
      "\u001b[34mProcess 1 is a worker.\u001b[0m\n",
      "\u001b[34m[05/25/2020 03:10:45 INFO 139699054421824] Using default worker.\u001b[0m\n",
      "\u001b[34m[05/25/2020 03:10:45 INFO 139699054421824] Loaded iterator creator application/x-recordio-protobuf for content type ('application/x-recordio-protobuf', '1.0')\u001b[0m\n",
      "\u001b[34m[05/25/2020 03:10:45 INFO 139699054421824] Loaded iterator creator application/x-labeled-vector-protobuf for content type ('application/x-labeled-vector-protobuf', '1.0')\u001b[0m\n",
      "\u001b[34m[05/25/2020 03:10:45 INFO 139699054421824] Loaded iterator creator protobuf for content type ('protobuf', '1.0')\u001b[0m\n",
      "\u001b[34m[05/25/2020 03:10:45 INFO 139699054421824] Create Store: dist_sync\u001b[0m\n",
      "\u001b[34m[05/25/2020 03:10:45 INFO 139699054421824] nvidia-smi took: 0.0252599716187 secs to identify 0 gpus\u001b[0m\n",
      "\u001b[34m[05/25/2020 03:10:45 INFO 139699054421824] Number of GPUs being used: 0\u001b[0m\n",
      "\u001b[34m[05/25/2020 03:10:45 INFO 139699054421824] The default executor is <PCAExecutor on cpu(0)>.\u001b[0m\n",
      "\u001b[34m[05/25/2020 03:10:45 INFO 139699054421824] 8 feature(s) found in 'data'.\u001b[0m\n",
      "\u001b[34m[05/25/2020 03:10:45 INFO 139699054421824] <PCAExecutor on cpu(0)> is assigned to batch slice from 0 to 499.\u001b[0m\n",
      "\u001b[34m#metrics {\"Metrics\": {\"initialize.time\": {\"count\": 1, \"max\": 750.8039474487305, \"sum\": 750.8039474487305, \"min\": 750.8039474487305}}, \"EndTime\": 1590376245.94169, \"Dimensions\": {\"Host\": \"algo-1\", \"Operation\": \"training\", \"Algorithm\": \"PCA\"}, \"StartTime\": 1590376245.170987}\n",
      "\u001b[0m\n",
      "\u001b[34m#metrics {\"Metrics\": {\"Max Batches Seen Between Resets\": {\"count\": 1, \"max\": 0, \"sum\": 0.0, \"min\": 0}, \"Number of Batches Since Last Reset\": {\"count\": 1, \"max\": 0, \"sum\": 0.0, \"min\": 0}, \"Number of Records Since Last Reset\": {\"count\": 1, \"max\": 0, \"sum\": 0.0, \"min\": 0}, \"Total Batches Seen\": {\"count\": 1, \"max\": 0, \"sum\": 0.0, \"min\": 0}, \"Total Records Seen\": {\"count\": 1, \"max\": 0, \"sum\": 0.0, \"min\": 0}, \"Max Records Seen Between Resets\": {\"count\": 1, \"max\": 0, \"sum\": 0.0, \"min\": 0}, \"Reset Count\": {\"count\": 1, \"max\": 0, \"sum\": 0.0, \"min\": 0}}, \"EndTime\": 1590376245.941933, \"Dimensions\": {\"Host\": \"algo-1\", \"Meta\": \"init_train_data_iter\", \"Operation\": \"training\", \"Algorithm\": \"PCA\"}, \"StartTime\": 1590376245.941898}\n",
      "\u001b[0m\n",
      "\u001b[34m[2020-05-25 03:10:45.943] [tensorio] [info] epoch_stats={\"data_pipeline\": \"/opt/ml/input/data/train\", \"epoch\": 0, \"duration\": 771, \"num_examples\": 1, \"num_bytes\": 28000}\u001b[0m\n",
      "\u001b[34m[2020-05-25 03:10:47.065] [tensorio] [info] epoch_stats={\"data_pipeline\": \"/opt/ml/input/data/train\", \"epoch\": 1, \"duration\": 1114, \"num_examples\": 1435, \"num_bytes\": 40168520}\u001b[0m\n",
      "\u001b[34m#metrics {\"Metrics\": {\"epochs\": {\"count\": 1, \"max\": 1, \"sum\": 1.0, \"min\": 1}, \"update.time\": {\"count\": 1, \"max\": 1121.778964996338, \"sum\": 1121.778964996338, \"min\": 1121.778964996338}}, \"EndTime\": 1590376247.065459, \"Dimensions\": {\"Host\": \"algo-1\", \"Operation\": \"training\", \"Algorithm\": \"PCA\"}, \"StartTime\": 1590376245.94182}\n",
      "\u001b[0m\n",
      "\u001b[34m[05/25/2020 03:10:47 INFO 139699054421824] #progress_metric: host=algo-1, completed 100 % of epochs\u001b[0m\n",
      "\u001b[34m#metrics {\"Metrics\": {\"Max Batches Seen Between Resets\": {\"count\": 1, \"max\": 1435, \"sum\": 1435.0, \"min\": 1435}, \"Number of Batches Since Last Reset\": {\"count\": 1, \"max\": 1435, \"sum\": 1435.0, \"min\": 1435}, \"Number of Records Since Last Reset\": {\"count\": 1, \"max\": 717295, \"sum\": 717295.0, \"min\": 717295}, \"Total Batches Seen\": {\"count\": 1, \"max\": 1435, \"sum\": 1435.0, \"min\": 1435}, \"Total Records Seen\": {\"count\": 1, \"max\": 717295, \"sum\": 717295.0, \"min\": 717295}, \"Max Records Seen Between Resets\": {\"count\": 1, \"max\": 717295, \"sum\": 717295.0, \"min\": 717295}, \"Reset Count\": {\"count\": 1, \"max\": 1, \"sum\": 1.0, \"min\": 1}}, \"EndTime\": 1590376247.065937, \"Dimensions\": {\"Host\": \"algo-1\", \"Meta\": \"training_data_iter\", \"Operation\": \"training\", \"Algorithm\": \"PCA\", \"epoch\": 0}, \"StartTime\": 1590376245.943644}\n",
      "\u001b[0m\n",
      "\u001b[34m[05/25/2020 03:10:47 INFO 139699054421824] #throughput_metric: host=algo-1, train throughput=639053.76425 records/second\u001b[0m\n",
      "\u001b[34m#metrics {\"Metrics\": {\"finalize.time\": {\"count\": 1, \"max\": 30.645132064819336, \"sum\": 30.645132064819336, \"min\": 30.645132064819336}}, \"EndTime\": 1590376247.09694, \"Dimensions\": {\"Host\": \"algo-1\", \"Operation\": \"training\", \"Algorithm\": \"PCA\"}, \"StartTime\": 1590376247.065535}\n",
      "\u001b[0m\n",
      "\u001b[34m[05/25/2020 03:10:47 INFO 139699054421824] Test data is not provided.\u001b[0m\n",
      "\u001b[34m#metrics {\"Metrics\": {\"totaltime\": {\"count\": 1, \"max\": 2111.0289096832275, \"sum\": 2111.0289096832275, \"min\": 2111.0289096832275}, \"setuptime\": {\"count\": 1, \"max\": 42.56391525268555, \"sum\": 42.56391525268555, \"min\": 42.56391525268555}}, \"EndTime\": 1590376247.147783, \"Dimensions\": {\"Host\": \"algo-1\", \"Operation\": \"training\", \"Algorithm\": \"PCA\"}, \"StartTime\": 1590376247.097029}\n",
      "\u001b[0m\n"
     ]
    },
    {
     "name": "stdout",
     "output_type": "stream",
     "text": [
      "Training seconds: 50\n",
      "Billable seconds: 50\n",
      "CPU times: user 422 ms, sys: 16.5 ms, total: 439 ms\n",
      "Wall time: 3min 11s\n"
     ]
    }
   ],
   "source": [
    "%%time\n",
    "\n",
    "# train the PCA mode on the formatted data\n",
    "pca_SM.fit(formatted_train_data)"
   ]
  },
  {
   "cell_type": "code",
   "execution_count": 80,
   "metadata": {},
   "outputs": [
    {
     "name": "stdout",
     "output_type": "stream",
     "text": [
      "output/pca-2020-05-25-03-07-58-435/output/model.tar.gz\n"
     ]
    },
    {
     "data": {
      "text/plain": [
       "2304"
      ]
     },
     "execution_count": 80,
     "metadata": {},
     "output_type": "execute_result"
    }
   ],
   "source": [
    "training_job_name='pca-2020-05-25-03-07-58-435'\n",
    "\n",
    "# where the model is saved, by default\n",
    "model_key = os.path.join(prefix, training_job_name, 'output/model.tar.gz')\n",
    "print(model_key)\n",
    "\n",
    "# download and unzip model\n",
    "boto3.resource('s3').Bucket(bucket_name).download_file(model_key, 'model.tar.gz')\n",
    "\n",
    "# unzipping as model_algo-1\n",
    "os.system('tar -zxvf model.tar.gz')\n",
    "os.system('unzip model_algo-1')"
   ]
  },
  {
   "cell_type": "code",
   "execution_count": 1,
   "metadata": {},
   "outputs": [
    {
     "name": "stdout",
     "output_type": "stream",
     "text": [
      "{'s': \n",
      "[  9.334156  12.114966  19.712225  35.957344 137.18034  241.06836\n",
      " 757.8103  ]\n",
      "<NDArray 7 @cpu(0)>, 'v': \n",
      "[[ 1.1148384e-03  4.9833992e-01  1.9023847e-04 -1.2229377e-03\n",
      "   2.2062284e-01  4.1429052e-01 -7.2893262e-01]\n",
      " [-2.4137799e-01  1.6530571e-03 -7.2029948e-02  8.3013815e-01\n",
      "  -1.4356098e-03  1.6615968e-03 -7.1781676e-04]\n",
      " [-1.0272411e-03 -5.0017762e-01 -1.6696181e-03 -2.2229475e-03\n",
      "  -4.1156960e-01  7.6109856e-01 -3.3945121e-02]\n",
      " [ 3.3594552e-01 -2.0244371e-03  6.5687066e-01  4.5399353e-01\n",
      "  -1.0840843e-03  1.8564900e-03 -1.5384601e-04]\n",
      " [-8.1912935e-04 -5.0322014e-01 -4.3285851e-04  1.4236759e-03\n",
      "   8.5414428e-01  1.3067897e-01 -1.1242964e-02]\n",
      " [-8.5604441e-01  9.1218145e-04  6.3610757e-03  5.9289549e-02\n",
      "   9.1741873e-05  2.5534775e-04 -1.4816609e-05]\n",
      " [-1.1770822e-03 -4.9823788e-01  4.1847551e-04  1.5992795e-04\n",
      "  -2.2884516e-01 -4.8167300e-01 -6.8365031e-01]\n",
      " [ 3.0993691e-01 -6.7130086e-04 -7.5052577e-01  3.1817734e-01\n",
      "  -4.5896813e-04 -4.6454152e-04 -5.4983696e-04]]\n",
      "<NDArray 8x7 @cpu(0)>, 'mean': \n",
      "[[2.7429441e-01 1.1013600e-03 4.9155507e-02 5.7019776e-04 2.0741815e-02\n",
      "  9.3406481e-05 2.0436223e-01 4.4472638e-04]]\n",
      "<NDArray 1x8 @cpu(0)>}\n"
     ]
    }
   ],
   "source": [
    "import mxnet as mx\n",
    "\n",
    "# loading the unzipped artifacts\n",
    "pca_model_params = mx.ndarray.load('model_algo-1')\n",
    "\n",
    "# what are the params\n",
    "print(pca_model_params)"
   ]
  },
  {
   "cell_type": "code",
   "execution_count": null,
   "metadata": {},
   "outputs": [],
   "source": []
  }
 ],
 "metadata": {
  "kernelspec": {
   "display_name": "Python 3",
   "language": "python",
   "name": "python3"
  },
  "language_info": {
   "codemirror_mode": {
    "name": "ipython",
    "version": 3
   },
   "file_extension": ".py",
   "mimetype": "text/x-python",
   "name": "python",
   "nbconvert_exporter": "python",
   "pygments_lexer": "ipython3",
   "version": "3.7.3"
  }
 },
 "nbformat": 4,
 "nbformat_minor": 4
}
